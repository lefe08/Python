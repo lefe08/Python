{
  "nbformat": 4,
  "nbformat_minor": 0,
  "metadata": {
    "colab": {
      "name": "Copia de EVALUACION1.ipynb",
      "provenance": [],
      "collapsed_sections": [],
      "include_colab_link": true
    },
    "kernelspec": {
      "name": "python3",
      "display_name": "Python 3"
    },
    "language_info": {
      "name": "python"
    }
  },
  "cells": [
    {
      "cell_type": "markdown",
      "metadata": {
        "id": "view-in-github",
        "colab_type": "text"
      },
      "source": [
        "<a href=\"https://colab.research.google.com/github/lefe08/Python/blob/main/Copia_de_EVALUACION1.ipynb\" target=\"_parent\"><img src=\"https://colab.research.google.com/assets/colab-badge.svg\" alt=\"Open In Colab\"/></a>"
      ]
    },
    {
      "cell_type": "markdown",
      "source": [
        "# Práctica 1. \n",
        "6 puntos\n",
        "\n",
        "1 Práctica 1: Conociendo Python.\n",
        "\n",
        "Objetivo: Identificar el nivel de comprensión de los conceptos mediante preguntas abiertas.\n",
        "\n",
        "Responder las siguientes preguntas:\n",
        "\n"
      ],
      "metadata": {
        "id": "j1eqhlwTACMT"
      }
    },
    {
      "cell_type": "markdown",
      "source": [
        "\n",
        "1.1 ¿Qué es python? (2 puntos)\n",
        "\n",
        " Tu respuesta aquí\n",
        "\n",
        "1.2 ¿Es multiplataforma en que sistemas operativos funciona ? (2 puntos)\n",
        "\n",
        " Tu respuesta aquí\n",
        " \n",
        "1.3 Ejercicio 1 (2 puntos) Escribir un programa que pregunte al usuario su nombre, y luego lo salude.\n"
      ],
      "metadata": {
        "id": "8rolc7oNANvo"
      }
    },
    {
      "cell_type": "markdown",
      "source": [
        "# Tu respuesta aquì\n",
        "# python:\n",
        "# Es un lenguaje de programaciòn creado por Guido Rossum. Un lenguaje interpretado o de script es aquel que se ejecuta utilizando un programa intermedio llamado intèrprete, en lugar de compilar el còdigo a lenguaje màquina que pueda comprender y ejecutar directamente una computadora.Tipado dinàmico ( no es necesario declarar el tipo de dato que va a contener una determinada variable)\n",
        "\n",
        "\n",
        " \n",
        "\n"
      ],
      "metadata": {
        "id": "NWli64W0jGST"
      }
    },
    {
      "cell_type": "markdown",
      "source": [
        ""
      ],
      "metadata": {
        "id": "uYucOpA7i-cq"
      }
    },
    {
      "cell_type": "markdown",
      "source": [
        "#1.2 ¿ Es multiplataforma en que sistemas operativos funciona ?\n",
        "#Tu respuesta aquì\n",
        "\n"
      ],
      "metadata": {
        "id": "ee5JarIFO-GR"
      }
    },
    {
      "cell_type": "markdown",
      "source": [
        " Unix, Solaris, Linux, Windows, Os/2, MacOs\n",
        " \n",
        " **unix**:Este sistema cuenta con uno o varios intérpretes de comando (shell) así como también con un gran número de comandos y muchas utilidades (ensambladores, compiladores para varios idiomas, procesador de textos, correo electrónico, etc.). Además, es altamente portable, lo que significa que es posible implementar un sistema UNIX en casi todas las plataf...\n",
        "\n",
        " **solaris**: Es un sistema robusto y multiarquitectura, con lo cual es compatible con varios CPU, es muy versátil, pudiendo funcionar con alto desempeño tanto para estaciones de trabajo para usuarios de escritorio como Servidor para centralizar redes de configuración complejo\n",
        "\n",
        "**Linux**: sirve como base para casi cualquier tipo de iniciativa de TI, lo que incluye los contenedores, las aplicaciones desarrolladas en la nube y la seguridad. Es un elemento esencial de algunos de los sectores y las empresas más grandes del mundo, desde los sitios web para compartir información (como Wikipedia y New York Stock Exchange) hasta los dispositivos móviles que utilizan Android (una distribución del kernel de Linux para un uso en particular con un software complementario). Con el pasar de los años, Linux se convirtió en el estándar para la ejecución de las cargas de trabajo altamente disponibles, confiables y cruciales en las implementaciones de la nube y los centros de datos. Tiene una gran cantidad de casos prácticos, funciones, distribuciones, dispositivos y sistemas objetivo, y se basa en las necesidades y las cargas de trabajo del usuario.\n",
        "\n",
        "**Windows**: En todas las versiones de Windows con NT 3 se han basado en un sistema de permisos de sistema de archivos denominado AGDLP (cuentas, Global, Local, permisos) AGLP que en esencia donde se aplican los permisos de archivo a la carpeta en forma de un grupo local que luego tiene otros 'grupos globales' como miembros. Estos grupos globales mantienen otros grupos o a usuarios según las diferentes versiones de Windows que utiliza. Este sistema varía de otros productos de proveedores tales como Linux y NetWare debido a la 'estática' asignación de permiso se aplica directorio para el archivo o carpeta. Sin embargo con este proceso de AGLP/AGDLP/AGUDLP permite a un pequeño número de permisos estáticos para aplicarse y permite cambios fáciles a los grupos de cuentas sin volver a aplicar los permisos de archivo de los archivos y carpetas.\n",
        "\n",
        " **Os/2** Es un sistema operativo desarrollado primando la robustez, por lo que su adopción fue mucho más amplia en industria que en usuarios finales.\n",
        "\n",
        "  **MacOs** Este fue el comienzo del Mac OS clásico, desarrollado íntegramente por Apple, cuya primera versión vio la luz en 1985. Su desarrollo se extendería hasta la versión 9 del sistema, lanzada en 1999. A partir de la versión 10 (Mac OS X), el sistema cambió su arquitectura totalmente y pasó a basarse en Unix, sin embargo su interfaz gráfica mantiene muchos elementos de las versiones anteriores.\n",
        "\n",
        " "
      ],
      "metadata": {
        "id": "UXu_85DjPrYR"
      }
    },
    {
      "cell_type": "markdown",
      "source": [
        ""
      ],
      "metadata": {
        "id": "fsbz4DzWPoo6"
      }
    },
    {
      "cell_type": "markdown",
      "source": [
        "\n",
        "\n",
        "\n"
      ],
      "metadata": {
        "id": "s3nT0PpUPje4"
      }
    },
    {
      "cell_type": "markdown",
      "source": [
        "#1.3 Ejercicio 1\n",
        "#Escribe un programa que pregunte al usuario su nombre, y luego lo salude "
      ],
      "metadata": {
        "id": "6iW0zBbhOREa"
      }
    },
    {
      "cell_type": "code",
      "source": [
        "name = input(\" ¿ cuàl es tú nombre ? \")\n",
        "\n",
        "print(\" HELLO \"  + name)"
      ],
      "metadata": {
        "id": "OpcH1h40AXRD",
        "outputId": "e03a0c75-df48-4a0c-98bf-fe4d410af798",
        "colab": {
          "base_uri": "https://localhost:8080/"
        }
      },
      "execution_count": null,
      "outputs": [
        {
          "output_type": "stream",
          "name": "stdout",
          "text": [
            " ¿ cuàl es tú nombre ?  LETICIA\n",
            " HELLO  LETICIA\n"
          ]
        }
      ]
    }
  ]
}