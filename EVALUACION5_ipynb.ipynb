{
  "nbformat": 4,
  "nbformat_minor": 0,
  "metadata": {
    "colab": {
      "name": "EVALUACION5.ipynb.ipynb",
      "provenance": [],
      "authorship_tag": "ABX9TyPeKRND0aUBxritPtSrMMkY",
      "include_colab_link": true
    },
    "kernelspec": {
      "name": "python3",
      "display_name": "Python 3"
    },
    "language_info": {
      "name": "python"
    }
  },
  "cells": [
    {
      "cell_type": "markdown",
      "metadata": {
        "id": "view-in-github",
        "colab_type": "text"
      },
      "source": [
        "<a href=\"https://colab.research.google.com/github/lefe08/Python/blob/main/EVALUACION5_ipynb.ipynb\" target=\"_parent\"><img src=\"https://colab.research.google.com/assets/colab-badge.svg\" alt=\"Open In Colab\"/></a>"
      ]
    },
    {
      "cell_type": "markdown",
      "source": [
        ""
      ],
      "metadata": {
        "id": "7SjW2NuNcOMk"
      }
    },
    {
      "cell_type": "markdown",
      "source": [
        "# 5.1 Ejercicio 1 (2 puntos)\n",
        "# programa que imprima si el número es positivo o negativo"
      ],
      "metadata": {
        "id": "STMAsLcVci0r"
      }
    },
    {
      "cell_type": "code",
      "source": [
        "num1= int(input(\"Escribe un número\"))\n",
        "if  num1 >=0: \n",
        "  print(\"Número positivo\")  \n",
        "else:\n",
        "  print(\"número negativo\")"
      ],
      "metadata": {
        "colab": {
          "base_uri": "https://localhost:8080/"
        },
        "id": "u95B66SCc-nL",
        "outputId": "9a51d3af-cecb-4103-a754-7f5520c02d58"
      },
      "execution_count": null,
      "outputs": [
        {
          "output_type": "stream",
          "name": "stdout",
          "text": [
            "Escribe un número2\n",
            "Número positivo\n"
          ]
        }
      ]
    },
    {
      "cell_type": "markdown",
      "source": [
        "# 5.2 Ejercicio 2 (2 puntos)\n",
        "Programa que imprima si el número ingresado esta en el rango de 1 a 7, el número se solicita por consola.\n"
      ],
      "metadata": {
        "id": "mzLgThs9eWYL"
      }
    },
    {
      "cell_type": "markdown",
      "source": [
        ""
      ],
      "metadata": {
        "id": "wja-xwQ5QCB5"
      }
    },
    {
      "cell_type": "code",
      "source": [
        "# creamos variable num con parametro de 1_7\n",
        "\n",
        "import random\n",
        "num = random.randint(1,8)\n",
        "#variable del usuario con valor 0\n",
        "num_usu = 0\n",
        "#variable del usuario que ingrese el nùmero\n",
        "num_usu = int(input(\"ingresa un nùmero\"))\n",
        "#si el nùmero se encuentra entre el rango de 1_7\n",
        "if  num_usu < 8:\n",
        "\n",
        "     print(\"El nùmero ingresado esta en el rango de 1_7\")\n",
        "else:\n",
        "    print(\"El nùmero ingresado no esta en el rango\")\n"
      ],
      "metadata": {
        "id": "GARjfphxiuky",
        "colab": {
          "base_uri": "https://localhost:8080/"
        },
        "outputId": "e0161652-4d33-4d5c-a28f-4eae98aed042"
      },
      "execution_count": null,
      "outputs": [
        {
          "output_type": "stream",
          "name": "stdout",
          "text": [
            "ingresa un nùmero7\n",
            "El nùmero ingresado esta en el rango de 1_7\n"
          ]
        }
      ]
    },
    {
      "cell_type": "markdown",
      "source": [
        "5.3 Ejercicio3\n",
        "#programa que  solicite un monto y que solicite el interès mensual\n",
        "#si el interès es mayor al 30% nos imprimira que es incorrecto\n",
        "#si es menor realizarà el càlculo e imprimira el monto con su interès adicionado\n",
        "\n"
      ],
      "metadata": {
        "id": "wMZ1pHiEWaj_"
      }
    },
    {
      "cell_type": "code",
      "source": [
        "#creamos las variables monto e interès,solicitamos informacion\n",
        "monto = float(input(\"Ingresa el monto:\"))\n",
        "interes =int(input(\"Ingresa el interès mensual:\"))\n",
        "#crear condicional\n",
        "if  interes>30:  \n",
        "    print(\"Incorrecto\")  \n",
        "else: \n",
        "    interes<30                     \n",
        "    calculo = monto +(monto * interes/10)\n",
        "    print(calculo)"
      ],
      "metadata": {
        "colab": {
          "base_uri": "https://localhost:8080/"
        },
        "id": "LjeeVEgzaE8T",
        "outputId": "db789d4d-6ae6-4ee1-82fa-cbee4e230f1d"
      },
      "execution_count": null,
      "outputs": [
        {
          "output_type": "stream",
          "name": "stdout",
          "text": [
            "Ingresa el monto:60\n",
            "Ingresa el interès mensual:60\n",
            "Incorrecto\n"
          ]
        }
      ]
    }
  ]
}