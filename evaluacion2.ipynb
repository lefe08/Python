{
  "nbformat": 4,
  "nbformat_minor": 0,
  "metadata": {
    "colab": {
      "name": "evaluacion2.ipynb",
      "provenance": [],
      "collapsed_sections": [],
      "authorship_tag": "ABX9TyMFWlJyQHIZx7B4PoNJPFsF",
      "include_colab_link": true
    },
    "kernelspec": {
      "name": "python3",
      "display_name": "Python 3"
    },
    "language_info": {
      "name": "python"
    }
  },
  "cells": [
    {
      "cell_type": "markdown",
      "metadata": {
        "id": "view-in-github",
        "colab_type": "text"
      },
      "source": [
        "<a href=\"https://colab.research.google.com/github/lefe08/Python/blob/main/evaluacion2.ipynb\" target=\"_parent\"><img src=\"https://colab.research.google.com/assets/colab-badge.svg\" alt=\"Open In Colab\"/></a>"
      ]
    },
    {
      "cell_type": "markdown",
      "source": [
        "práctica 2.\n",
        "6 puntos\n",
        "\n",
        "2 Práctica Números enteros y reales.\n",
        "Realiza los ejercicios de acuerdo a las indicaciones\n",
        "\n",
        "2.1 Ejercicio 1 (1.5 puntos)\n",
        "\n",
        "Escribir un programa que convierta un valor dado en grados Fahrenheit a grados Celsius."
      ],
      "metadata": {
        "id": "pFiatpfZchJ9"
      }
    },
    {
      "cell_type": "code",
      "execution_count": null,
      "metadata": {
        "id": "IaA7SY1jcXGa",
        "colab": {
          "base_uri": "https://localhost:8080/"
        },
        "outputId": "bb0ec6b1-8b1a-4e04-c5bb-f50ba5b3c9f1"
      },
      "outputs": [
        {
          "output_type": "stream",
          "name": "stdout",
          "text": [
            "ingresa una temperatura en grados Fahrenheit:400\n",
            "´400  grados Fahrenheit son 204.44444444444446 grados Celsius\n"
          ]
        }
      ],
      "source": [
        "dato1 =int(input('ingresa una temperatura en grados Fahrenheit:'))\n",
        "celsius = (dato1 - 32) * 5/9\n",
        "#Hacer uso de la funciòn str.format()para darla formato a nuestra respuestas\n",
        "print('´{}  grados Fahrenheit son {} grados Celsius'. format(dato1, celsius))\n"
      ]
    },
    {
      "cell_type": "markdown",
      "source": [
        "2.2 Ejercicio 2 (1.5 puntos)\n",
        "\n",
        "Dados dos números, mostrar la suma, resta, división y multiplicación de ambos."
      ],
      "metadata": {
        "id": "QH-VcdvUcpUi"
      }
    },
    {
      "cell_type": "code",
      "source": [
        "num_1 = int(input('Ingresa un nùmero:'))\n",
        "num_2 = int(input('Ingresa el segundo nùmero:'))\n",
        "suma = num_1 + num_2\n",
        "resta = num_1 - num_2\n",
        "multi = num_1 * num_2\n",
        "divi = num_1 / num_2\n",
        "print('la suma de los dos nùmeros dados es :{20}\\nla resta de los nùmeros es:´{10} \\nla multiplicaciòn de los dos nùmeros es: {12}\\nla divisiòn entre los dos nùmeros es:{10}')"
      ],
      "metadata": {
        "id": "4dBDaFMrcqUj",
        "colab": {
          "base_uri": "https://localhost:8080/"
        },
        "outputId": "9af4c979-8a62-4f39-e5a2-8eee5cc75b17"
      },
      "execution_count": null,
      "outputs": [
        {
          "output_type": "stream",
          "name": "stdout",
          "text": [
            "Ingresa un nùmero:10\n",
            "Ingresa el segundo nùmero:20\n",
            "la suma de los dos nùmeros dados es :{20}\n",
            "la resta de los nùmeros es:´{10} \n",
            "la multiplicaciòn de los dos nùmeros es: {12}\n",
            "la divisiòn entre los dos nùmeros es:{10}\n"
          ]
        }
      ]
    },
    {
      "cell_type": "markdown",
      "source": [
        "2.3 Ejercicio 3 (1.5 puntos)\n",
        "\n",
        "Calcular el perímetro y área de un rectángulo dada su base y su altura. Respuesta:"
      ],
      "metadata": {
        "id": "buWejhqmctiC"
      }
    },
    {
      "cell_type": "code",
      "source": [
        "lado1= int(input('Ingresa la medida del primer lado del rectangulo en centìmetros:'))\n",
        "lado2= int(input('Ingresa la medida del segundo lado del rectangulo en centìmetros:'))\n",
        "lado3= int(input('Ingresa la medida del tercer lado del rectacgunlo en centimetros:'))\n",
        "lado= int(input('Ingresa la medida del cuarto lado del rectangunlo en centimetros:'))\n",
        "perimetro=lado1+lado2+lado3\n",
        "base = int(input('Ingresa la medida de la base del rectangulo en centìmetros:'))\n",
        "altura = int(input('Ingresa la medida del rectangulo en centimetros:'))\n",
        "area = (base * altura) / 2\n",
        "print('Resultado: el àrea del rectangulo es {} cm2 ,'.format(perimetro))\n",
        "base = int (input('Ingresa la medida de la base del rectangulo en centimetros'))\n",
        "altura = int (input('Ingresa la medida de la altura del rectangulo en centimetros'))\n",
        "area = (base * altura) / 2\n",
        "print('Resultado: el àrea del rectangulo es {} cm2.'.format(area))\n",
        "\n",
        "\n"
      ],
      "metadata": {
        "id": "4OGJYqI4cuLi",
        "colab": {
          "base_uri": "https://localhost:8080/"
        },
        "outputId": "cace054a-fbbd-421b-d8c8-47e73b5c6417"
      },
      "execution_count": null,
      "outputs": [
        {
          "output_type": "stream",
          "name": "stdout",
          "text": [
            "Ingresa la medida del primer lado del rectangulo en centìmetros:25\n",
            "Ingresa la medida del segundo lado del rectangulo en centìmetros:30\n",
            "Ingresa la medida del tercer lado del rectacgunlo en centimetros:25\n",
            "Ingresa la medida del cuarto lado del rectangunlo en centimetros:30\n",
            "Ingresa la medida de la base del rectangulo en centìmetros:110\n",
            "Ingresa la medida del rectangulo en centimetros:110\n",
            "Resultado: el àrea del rectangulo es 80 cm2 ,\n",
            "Ingresa la medida de la base del rectangulo en centimetros80\n",
            "Ingresa la medida de la altura del rectangulo en centimetros110\n",
            "Resultado: el àrea del rectangulo es 4400.0 cm2.\n"
          ]
        }
      ]
    }
  ]
}