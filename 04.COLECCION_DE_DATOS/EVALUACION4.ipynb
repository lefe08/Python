{
  "nbformat": 4,
  "nbformat_minor": 0,
  "metadata": {
    "colab": {
      "name": "Untitled5.ipynb",
      "provenance": [],
      "include_colab_link": true
    },
    "kernelspec": {
      "name": "python3",
      "display_name": "Python 3"
    },
    "language_info": {
      "name": "python"
    }
  },
  "cells": [
    {
      "cell_type": "markdown",
      "metadata": {
        "id": "view-in-github",
        "colab_type": "text"
      },
      "source": [
        "<a href=\"https://colab.research.google.com/github/lefe08/Python/blob/main/04.COLECCION_DE_DATOS/EVALUACION4.ipynb\" target=\"_parent\"><img src=\"https://colab.research.google.com/assets/colab-badge.svg\" alt=\"Open In Colab\"/></a>"
      ]
    },
    {
      "cell_type": "markdown",
      "source": [
        "# Práctica 4. \n",
        "6 puntos\n",
        "\n",
        "Tipos de colección de datos.\n",
        "\n",
        "## 4.1 Ejercicio 1(1.2 puntos)\n",
        "Realizar un programa que inicialice una lista con 10 valores aleatorios (del 1 al 10) y posteriormente muestre en pantalla cada elemento de la lista junto con su cuadrado y su cubo. Respuesta:\n",
        "\n"
      ],
      "metadata": {
        "id": "5401D1bpSsU-"
      }
    },
    {
      "cell_type": "code",
      "execution_count": null,
      "metadata": {
        "id": "2evc8LMxSrwF"
      },
      "outputs": [],
      "source": [
        "# Tu código aqui\n",
        "import  random\n",
        "lista_numeros = []\n",
        "for indice  in range(1,11):\n",
        " lista_numeros.append(random.randint(1,10))\n",
        "for numero  in  lista_numeros:\n",
        " print(numero,'', numero ** 2, '',numero ** 3)"
      ]
    },
    {
      "cell_type": "markdown",
      "source": [
        "## 4.2 Ejercicio 2 (1.2 puntos)\n",
        "Crea una lista e inicializarla con 5 cadenas de caracteres leídas por teclado. Copia los elementos de la lista en otra lista pero en orden inverso, y muestra sus elementos por la pantalla.\n",
        "\n"
      ],
      "metadata": {
        "id": "mYeAdvL-S2m4"
      }
    },
    {
      "cell_type": "code",
      "source": [
        "#Tu código aqui\n",
        "lista1 = []\n",
        "lista2 = []\n",
        "for indice  in  range(1,6):\n",
        "  lista1.append(input('Dame la cadena %d:'% indice ))\n",
        "  lista2 = lista1 [::-1]\n",
        "for cadena  in  lista2:\n",
        "  print(cadena)"
      ],
      "metadata": {
        "id": "sW9gox1pS75K"
      },
      "execution_count": null,
      "outputs": []
    },
    {
      "cell_type": "markdown",
      "source": [
        "## 4.3 Ejercicio 3 (1.2 puntos)\n",
        "Se quiere realizar un programa que lea por teclado las 5 notas obtenidas por un alumno (comprendidas entre 0 y 10). A continuación debe mostrar todas las notas, la nota media, la nota más alta que ha sacado y la menor.\n",
        "\n"
      ],
      "metadata": {
        "id": "QWYc_eqVS96C"
      }
    },
    {
      "cell_type": "code",
      "source": [
        "#Tu codigo aqui\n",
        "notas = []\n",
        "cont=1\n",
        "while cont<6:\n",
        "  nota = int (input('Introduce la nota %i:' % cont))\n",
        "  if  nota>=0 and nota<=10:\n",
        "    cont = cont +1\n",
        "    notas.append(nota)\n",
        "  else:\n",
        "    print('formato incorrecto, ingresa de nuevo la calificación')\n",
        "  print('notas:')\n",
        "  print('------------------')\n",
        "  print(\"Nota media:\",sum(notas)/len(notas))\n",
        "  print(\"Nota max:\",max(notas))\n",
        "  print(\"Nota min:\",min(notas))\n"
      ],
      "metadata": {
        "id": "9NtUBQ3rTAlZ"
      },
      "execution_count": null,
      "outputs": []
    },
    {
      "cell_type": "markdown",
      "source": [
        "## 4.4 Ejercicio 4 (1.2 puntos)\n",
        "Codifica un programa en python que nos permita guardar los nombres de los alumnos de una clase y las notas que han obtenido. Cada alumno puede tener distinta cantidad de notas. Guarda la información en un diccionario cuya claves serán los nombres de los alumnos y los valores serán listados con las notas de cada alumno.\n",
        "\n",
        "El programa pedirá el número de alumnos que vamos a introducir, pedirá su nombre e irá pidiendo sus notas hasta que introduzcamos un número negativo. Al final el programa nos mostrará la lista de alumnos y la nota media obtenida por cada uno de ellos. Nota: si se introduce el nombre de un alumno que ya existe el programa nos dará un error.\n",
        "\n"
      ],
      "metadata": {
        "id": "0SZRy56KTC3q"
      }
    },
    {
      "cell_type": "code",
      "source": [
        "#Tu código aqui\n",
        "alumnos = {}\n",
        "notas= []\n",
        "cantidad  = int(input('Introduce la cantidad de alumnos que vamos a guardar:'))\n",
        "for num in range(cantidad):\n",
        "  alumno = input('Nombre del alumno:')\n",
        "  \n",
        "  while alumno in  alumnos:\n",
        "    print('Alumno ya existe.')\n",
        "    alumno = input('Nombre del alumno:')\n",
        "  nota = int(input('Dame una nota del alumno  (negativo para terminar):'))\n",
        "  while nota > 0:\n",
        "    notas.append(nota)\n",
        "    nota = int(input('Dame una nota del alumno (negativo para terminar):'))\n",
        "    alumnos[alumno] = notas.copy()\n",
        "\n",
        "for alumno, notas in alumnos.items():\n",
        "    print('%s ha sacado de nota media %f' %(alumno, sum(notas)/len(notas)))"
      ],
      "metadata": {
        "id": "Zai6eApUTGzk"
      },
      "execution_count": null,
      "outputs": []
    },
    {
      "cell_type": "markdown",
      "source": [
        "## 4.5 Ejercicio 5 (1.2 puntos)\n",
        "Crea una tupla con los meses del año, pide números al usuario, si el número está entre 1 y la longitud máxima de la tupla, muestra el contenido de esa posición sino muestra un mensaje de error. El programa termina cuando el usuario introduce un cero.\n",
        "\n"
      ],
      "metadata": {
        "id": "BXyaY22ATI-M"
      }
    },
    {
      "cell_type": "code",
      "source": [
        "#Tu código aqui\n",
        "meses = ('january','february', 'march', 'april', 'may', 'june', 'july', 'august', 'september', 'october', 'november', 'december')\n",
        "numero = int(input('Dame un numero:')) \n",
        "while(numero!=0):\n",
        "  if(numero>=1 and numero<=len(meses)):\n",
        "    print(meses[numero-1]) \n",
        "    numero = int(input('Dame un numero:'))\n",
        "  else:\n",
        "    print('Inserta un número entre 1 y ', len (meses))\n",
        "    numero = int(input('.Dame un numero:'))\n",
        "\n",
        "else:       \n",
        "  print('adios')"
      ],
      "metadata": {
        "id": "c4mkDJNtTLLz"
      },
      "execution_count": null,
      "outputs": []
    }
  ]
}