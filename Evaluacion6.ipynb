{
  "nbformat": 4,
  "nbformat_minor": 0,
  "metadata": {
    "colab": {
      "name": " Evaluacion6.ipynb",
      "provenance": [],
      "collapsed_sections": [],
      "authorship_tag": "ABX9TyO4tYnhqpTeG8mmI/ZBbZ3C",
      "include_colab_link": true
    },
    "kernelspec": {
      "name": "python3",
      "display_name": "Python 3"
    },
    "language_info": {
      "name": "python"
    }
  },
  "cells": [
    {
      "cell_type": "markdown",
      "metadata": {
        "id": "view-in-github",
        "colab_type": "text"
      },
      "source": [
        "<a href=\"https://colab.research.google.com/github/lefe08/Python/blob/main/Evaluacion6.ipynb\" target=\"_parent\"><img src=\"https://colab.research.google.com/assets/colab-badge.svg\" alt=\"Open In Colab\"/></a>"
      ]
    },
    {
      "cell_type": "markdown",
      "source": [
        " 6 Práctica \n",
        " Ejercicio 1\n",
        " 6.SENTENCIAS_RELACIONALES\n",
        "#Realizar un ejemplo de menù, escoger las distintas opciones hasta que seleccionemos la opciòn de \"salir\".\n",
        "#Menù de recomendaciones\n",
        "#Literatura,Cine,Mùsica,Videojuegos,salir\n",
        "#Al ingresar una opciòn\n",
        "#opciòn 1:\n",
        "#Lecturas recomendables:\n",
        "#Esperàndolo a Tito y otros cuentos de fùtbool (Eeduardo sacheri)\n",
        "#El juego de Ender (Orson Scott Cart)\n",
        "#El sueño de los hèroes (Adolfo Bioy Casares)\n",
        "#opciòn 2:\n",
        "#pelìculas recomendables:\n",
        "#Matrix (1999)\n",
        "#El ùltimo samuray (2003)\n",
        "#Cars (2006)\n",
        "#opciòn 3:\n",
        "#Discos recomendables:\n",
        "#Despedazado por milpartes (La Renga,1996)\n",
        "#Bùfalo(La Missinni, 2008)\n",
        "#Gaìa (Mago de Oz, 2003)\n",
        "#opciòn 4:\n",
        "#Videojuegos clàsicos recomendables\n",
        "#Dìa del tentàculo (LucasArts, 1993)\n",
        "#Terminal Velocity (terminal Reality/3D Realms, 1995)\n",
        "#Death Rally (Remedy/Apogge, 1996)\n",
        "#opciòn 5:\n",
        "#Gracias, vuelva pronto\n",
        "#opciòn no vàlida, en caso de ingresar un nùmero fuera de las opciones\n"
      ],
      "metadata": {
        "id": "8AEHClfFWr6G"
      }
    },
    {
      "cell_type": "code",
      "source": [
        "menu = []\n",
        "while True:\n",
        "    menu=int(input(\"\"\"Selecciona una opciòn )ingresando el nùmero de la opciòn:\n",
        "    opciòn 1-Literatura\n",
        "    opciòn 2-Cine\n",
        "    opciòn 3-Mùsica\n",
        "    opciòn 4-Videojuegos\n",
        "    opciòn 5-salir\"\"\"))\n",
        "    if  menu== 1:\n",
        "         print(\"\"\"Lecturas recomendables:)\n",
        "         Esperàndolo a Tito y otros cuentos de fùtbool (Eduardo sacheri)\n",
        "         El juego de Ender (Orson Scott Card)\n",
        "         El sueño de los hèroes (Adolfo Bioy Casares)\"\"\")\n",
        "    elif menu == 2:\n",
        "              print(\"\"\"Pelìculas recomendables:\n",
        "              Matrix (1999)\n",
        "              El ùltimo samuray (2003)\n",
        "              Cars (2006)\"\"\")\n",
        "    elif  menu == 3:\n",
        "              print(\"\"\"Discos recomendables:\n",
        "              Despedazado por mil partes (La Renga, 1996)\n",
        "              Bùfalo (La Mississippi,2008)\n",
        "              Gaia (Mago de Oz, 2003)\"\"\")\n",
        "    elif  menu  == 4:\n",
        "                print(\"\"\"Videojuegos clàsicos recomendables:\n",
        "                Dìa del tentàculo (LucasArts, 1993)\n",
        "                Terminal Velocity (Terminal Reality/3D Realms,1995)\n",
        "                Death Rally (Remedy/Apogee, 1996\"\"\")\n",
        "    elif  menu == 5:\n",
        "       break\n",
        "    else:\n",
        "       break \n"
      ],
      "metadata": {
        "colab": {
          "base_uri": "https://localhost:8080/"
        },
        "id": "5nBWm3O3chQE",
        "outputId": "2044ecea-eb65-4905-acc0-daf1af80a3cd"
      },
      "execution_count": null,
      "outputs": [
        {
          "name": "stdout",
          "output_type": "stream",
          "text": [
            "Selecciona una opciòn )ingresando el nùmero de la opciòn:\n",
            "    opciòn 1-Literatura\n",
            "    opciòn 2-Cine\n",
            "    opciòn 3-Mùsica\n",
            "    opciòn 4-Videojuegos\n",
            "    opciòn 5-salir1\n",
            "Lecturas recomendables:)\n",
            "         Esperàndolo a Tito y otros cuentos de fùtbool (Eduardo sacheri)\n",
            "         El juego de Ender (Orson Scott Card)\n",
            "         El sueño de los hèroes (Adolfo Bioy Casares)\n",
            "Selecciona una opciòn )ingresando el nùmero de la opciòn:\n",
            "    opciòn 1-Literatura\n",
            "    opciòn 2-Cine\n",
            "    opciòn 3-Mùsica\n",
            "    opciòn 4-Videojuegos\n",
            "    opciòn 5-salir2\n",
            "Pelìculas recomendables:\n",
            "              Matrix (1999)\n",
            "              El ùltimo samuray (2003)\n",
            "              Cars (2006)\n",
            "Selecciona una opciòn )ingresando el nùmero de la opciòn:\n",
            "    opciòn 1-Literatura\n",
            "    opciòn 2-Cine\n",
            "    opciòn 3-Mùsica\n",
            "    opciòn 4-Videojuegos\n",
            "    opciòn 5-salir2\n",
            "Pelìculas recomendables:\n",
            "              Matrix (1999)\n",
            "              El ùltimo samuray (2003)\n",
            "              Cars (2006)\n",
            "Selecciona una opciòn )ingresando el nùmero de la opciòn:\n",
            "    opciòn 1-Literatura\n",
            "    opciòn 2-Cine\n",
            "    opciòn 3-Mùsica\n",
            "    opciòn 4-Videojuegos\n",
            "    opciòn 5-salir3\n",
            "Discos recomendables:\n",
            "              Despedazado por mil partes (La Renga, 1996)\n",
            "              Bùfalo (La Mississippi,2008)\n",
            "              Gaia (Mago de Oz, 2003)\n",
            "Selecciona una opciòn )ingresando el nùmero de la opciòn:\n",
            "    opciòn 1-Literatura\n",
            "    opciòn 2-Cine\n",
            "    opciòn 3-Mùsica\n",
            "    opciòn 4-Videojuegos\n",
            "    opciòn 5-salir4\n",
            "Videojuegos clàsicos recomendables:\n",
            "                Dìa del tentàculo (LucasArts, 1993)\n",
            "                Terminal Velocity (Terminal Reality/3D Realms,1995)\n",
            "                Death Rally (Remedy/Apogee, 1996\n",
            "Selecciona una opciòn )ingresando el nùmero de la opciòn:\n",
            "    opciòn 1-Literatura\n",
            "    opciòn 2-Cine\n",
            "    opciòn 3-Mùsica\n",
            "    opciòn 4-Videojuegos\n",
            "    opciòn 5-salir5\n"
          ]
        }
      ]
    },
    {
      "cell_type": "markdown",
      "source": [
        "#Ejercicio 2\n",
        "#Se pide por teclado un nùmero y nos imprime los nùmeros primos que hay previos a este nùmero\n",
        "#Ejemplo: si ingresamos el 10 nos imprima del 1 a 10 cuales nùmeros son primos"
      ],
      "metadata": {
        "id": "nyCiyzomllmQ"
      }
    },
    {
      "cell_type": "code",
      "source": [
        "num = int(input(\"Introduce un nùmero:\"))\n",
        "for i in range(1, num+1, 2):\n",
        "    print(i, end=\",\")"
      ],
      "metadata": {
        "colab": {
          "base_uri": "https://localhost:8080/"
        },
        "id": "Rd1dw4MAmcSe",
        "outputId": "94fd405f-17f1-4337-bad9-8cf1d65a3476"
      },
      "execution_count": null,
      "outputs": [
        {
          "output_type": "stream",
          "name": "stdout",
          "text": [
            "Introduce un nùmero:7\n",
            "1,3,5,7,"
          ]
        }
      ]
    },
    {
      "cell_type": "markdown",
      "source": [
        "Ejercicio 3\n",
        "#Una persona adquiriò un producto para pagar en 20 meses\n",
        "#El primer mes pagò 10 €, el segundo 20€, rl tercer 40€ y asì sucesivamente\n",
        "#Realizar un algoritmo para determinar cuànto debe pagar mensualmente y el total de lo que pagò despuès de los 20 meses\n",
        "#Al finalizar los 20 meses pago en total\n",
        "#Primer mes pago 10, segundo mes pago 20, tercer mes pago 30, cuarto mes pago 40, "
      ],
      "metadata": {
        "id": "1PL33H9NoDbA"
      }
    },
    {
      "cell_type": "code",
      "source": [
        "total= 0\n",
        "\n",
        "for i in range(1,21):  # Recorrer la lista con for el indice en un rango de 1_20\n",
        "  print('Mes %d'% i)  # valores asignados\n",
        "  if i==1:           # Condicional\n",
        "      pago=10\n",
        "  else:              #suma de 10 en cada mes en variable pago\n",
        "      pago=pago+10 \n",
        "  total=total+pago \n",
        "  print(\"pago:%d €\" % pago)\n",
        "print('Valor de total:%d'% total)"
      ],
      "metadata": {
        "colab": {
          "base_uri": "https://localhost:8080/"
        },
        "id": "MirjZhsMsqJ3",
        "outputId": "efc0c687-bea5-4140-d8ac-a261fecb292f"
      },
      "execution_count": null,
      "outputs": [
        {
          "output_type": "stream",
          "name": "stdout",
          "text": [
            "Mes 1\n",
            "pago:10 €\n",
            "Mes 2\n",
            "pago:20 €\n",
            "Mes 3\n",
            "pago:30 €\n",
            "Mes 4\n",
            "pago:40 €\n",
            "Mes 5\n",
            "pago:50 €\n",
            "Mes 6\n",
            "pago:60 €\n",
            "Mes 7\n",
            "pago:70 €\n",
            "Mes 8\n",
            "pago:80 €\n",
            "Mes 9\n",
            "pago:90 €\n",
            "Mes 10\n",
            "pago:100 €\n",
            "Mes 11\n",
            "pago:110 €\n",
            "Mes 12\n",
            "pago:120 €\n",
            "Mes 13\n",
            "pago:130 €\n",
            "Mes 14\n",
            "pago:140 €\n",
            "Mes 15\n",
            "pago:150 €\n",
            "Mes 16\n",
            "pago:160 €\n",
            "Mes 17\n",
            "pago:170 €\n",
            "Mes 18\n",
            "pago:180 €\n",
            "Mes 19\n",
            "pago:190 €\n",
            "Mes 20\n",
            "pago:200 €\n",
            "Valor de total:2100\n"
          ]
        }
      ]
    },
    {
      "cell_type": "markdown",
      "source": [
        ""
      ],
      "metadata": {
        "id": "3gFdfq3mlb5A"
      }
    }
  ]
}