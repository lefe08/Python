{
  "nbformat": 4,
  "nbformat_minor": 0,
  "metadata": {
    "colab": {
      "name": "Copia de metodos_de_los_objetos.ipynb",
      "provenance": [],
      "include_colab_link": true
    },
    "kernelspec": {
      "name": "python3",
      "display_name": "Python 3"
    },
    "language_info": {
      "name": "python"
    }
  },
  "cells": [
    {
      "cell_type": "markdown",
      "metadata": {
        "id": "view-in-github",
        "colab_type": "text"
      },
      "source": [
        "<a href=\"https://colab.research.google.com/github/lefe08/Python/blob/main/Copia_de_metodos_de_los_objetos.ipynb\" target=\"_parent\"><img src=\"https://colab.research.google.com/assets/colab-badge.svg\" alt=\"Open In Colab\"/></a>"
      ]
    },
    {
      "cell_type": "markdown",
      "source": [
        "# METODOS DE LOS OBJETOS\n",
        "\n",
        "## CADENAS\n",
        "\n",
        "### count(value) Devuelve el número de veces que se encuentra la busqueda en la cadena. Los parámetros opcionales start y end definen una subcadena en la que buscar."
      ],
      "metadata": {
        "id": "Cv719dm3ahe-"
      }
    },
    {
      "cell_type": "code",
      "execution_count": null,
      "metadata": {
        "id": "8YCPI19Zab5D",
        "outputId": "89c1189d-ade6-455a-e558-8be40070d906",
        "colab": {
          "base_uri": "https://localhost:8080/"
        }
      },
      "outputs": [
        {
          "output_type": "execute_result",
          "data": {
            "text/plain": [
              "0"
            ]
          },
          "metadata": {},
          "execution_count": 4
        }
      ],
      "source": [
        "  s = \"Hola mundo\"\n",
        "  s.count(\"r\")"
      ]
    },
    {
      "cell_type": "markdown",
      "source": [
        "### find(sub) Devuelve la posición en la que se encontró por primera vez sub en la cadena o -1 si no se encontró."
      ],
      "metadata": {
        "id": "J5uwZb2NbdpW"
      }
    },
    {
      "cell_type": "code",
      "source": [
        "cadenaDeTexto = \"Es peor cometer una injusticia que padecerla porque quien la comete se convierte en injusto y quien la padece no.\"\n",
        "cadenaDeTexto.find('quien')"
      ],
      "metadata": {
        "id": "dbz9kykObkHF",
        "outputId": "413af926-a838-421d-e55e-4a41ef712c29",
        "colab": {
          "base_uri": "https://localhost:8080/"
        }
      },
      "execution_count": null,
      "outputs": [
        {
          "output_type": "execute_result",
          "data": {
            "text/plain": [
              "52"
            ]
          },
          "metadata": {},
          "execution_count": 7
        }
      ]
    },
    {
      "cell_type": "markdown",
      "source": [
        "### join(secuence) Devuelve una cadena resultante de concatenar las cadenas de la secuencia separadas por la cadena sobre la que se llama el método.\n"
      ],
      "metadata": {
        "id": "y-OjgRNAbsuu"
      }
    },
    {
      "cell_type": "code",
      "source": [
        "list1 = ['1','2','3','4']  \n",
        "s = \"/\"\n",
        "s = s.join(list1) \n",
        "print(s)"
      ],
      "metadata": {
        "id": "92yHxJSGb3oz",
        "outputId": "affaa611-bd20-4879-bcc8-bc06fddbaade",
        "colab": {
          "base_uri": "https://localhost:8080/"
        }
      },
      "execution_count": null,
      "outputs": [
        {
          "output_type": "stream",
          "name": "stdout",
          "text": [
            "1/2/3/4\n"
          ]
        }
      ]
    },
    {
      "cell_type": "markdown",
      "source": [
        "### partition(sep) Busca el separador (sep) en la cadena y devuelve una tupla con la subcadena hasta dicho separador, el separador en si, y la subcadena del separador hasta el final de la cadena. Si no se encuentra el separador, la tupla contendrá la cadena en si y dos cadenas vacías."
      ],
      "metadata": {
        "id": "YVkEkPwAcQ4Y"
      }
    },
    {
      "cell_type": "code",
      "source": [
        "nombre = \"Juan Gónzalez Pérez\"\n",
        "nombre.partition(\"Juan\")"
      ],
      "metadata": {
        "id": "2GkC_IwWc5In",
        "outputId": "df756a97-4bed-4a94-c36f-c5cc8edf6019",
        "colab": {
          "base_uri": "https://localhost:8080/"
        }
      },
      "execution_count": null,
      "outputs": [
        {
          "output_type": "execute_result",
          "data": {
            "text/plain": [
              "('', 'Juan', ' Gónzalez Pérez')"
            ]
          },
          "metadata": {},
          "execution_count": 17
        }
      ]
    },
    {
      "cell_type": "markdown",
      "source": [
        "### replace(old) Devuelve una cadena en la que se han reemplazado todas las ocurrencias de la cadena old por la cadena new. Si se especifica el parámetro count, este indica el número máximo de ocurrencias a reemplazar."
      ],
      "metadata": {
        "id": "4MZmnXeGdmMf"
      }
    },
    {
      "cell_type": "code",
      "source": [
        "buscar = \"nombre \"\n",
        "reemplazar_nombre = \"Juan Pérez\" \n",
        "print(\"Estimado Sr. nombre :\".replace(buscar, reemplazar_por) )"
      ],
      "metadata": {
        "id": "jgPatmhHdtS5",
        "outputId": "2a9758e2-36b0-4d11-df49-19297c647e13",
        "colab": {
          "base_uri": "https://localhost:8080/"
        }
      },
      "execution_count": null,
      "outputs": [
        {
          "output_type": "stream",
          "name": "stdout",
          "text": [
            "Estimado Sr. Juan Pérez:\n"
          ]
        }
      ]
    },
    {
      "cell_type": "code",
      "source": [
        " print(\"si puedes cambiar un dato si le especificas si hay limite :\".replace(\"si\", \"no\",10) )"
      ],
      "metadata": {
        "id": "hVrAGdgLfcC-",
        "outputId": "dcf723fa-04f8-40a9-92f7-25765ddb8a02",
        "colab": {
          "base_uri": "https://localhost:8080/"
        }
      },
      "execution_count": null,
      "outputs": [
        {
          "output_type": "stream",
          "name": "stdout",
          "text": [
            "no puedes cambiar un dato no le especificas no hay limite :\n"
          ]
        }
      ]
    },
    {
      "cell_type": "markdown",
      "source": [
        "### split() Devuelve una lista conteniendo las subcadenas en las que se divide nuestra cadena al dividirlas por el delimitador sep. En el caso de que no se especifique sep, se usan espacios. Si se especifica maxsplit, este indica el número máximo de particiones a realizar."
      ],
      "metadata": {
        "id": "0JKzG1Rsflmu"
      }
    },
    {
      "cell_type": "code",
      "source": [
        "cadena = 'Hola compañeros del taller'\n",
        "cadena.split()"
      ],
      "metadata": {
        "id": "EcYvIxryfyEU",
        "colab": {
          "base_uri": "https://localhost:8080/"
        },
        "outputId": "e2a20a82-5567-40b7-d73e-bbf90d3ae3f8"
      },
      "execution_count": null,
      "outputs": [
        {
          "output_type": "execute_result",
          "data": {
            "text/plain": [
              "['Hola', 'compañeros', 'del', 'taller']"
            ]
          },
          "metadata": {},
          "execution_count": 24
        }
      ]
    },
    {
      "cell_type": "code",
      "source": [
        "cadena = \"80Edad:1Edad:20Edad:12Edad:44\"\n",
        "separador = \"Edad:\"\n",
        "cadena.split(separador)"
      ],
      "metadata": {
        "id": "_Bl1SCZbgH3S",
        "outputId": "546995b5-37fb-4e5a-b3ef-8191fe2b9856",
        "colab": {
          "base_uri": "https://localhost:8080/"
        }
      },
      "execution_count": null,
      "outputs": [
        {
          "output_type": "execute_result",
          "data": {
            "text/plain": [
              "['80', '1', '20', '12', '44']"
            ]
          },
          "metadata": {},
          "execution_count": 28
        }
      ]
    },
    {
      "cell_type": "code",
      "source": [
        "cadena = \"Hola mundo estamos explicando el funcionamiento de split en Python\"\n",
        "separador = \" \"\n",
        "cadena.split(separador, 4)"
      ],
      "metadata": {
        "id": "skdofjyEgSgq",
        "outputId": "f422af6d-472d-404a-83aa-390e89ac96e0",
        "colab": {
          "base_uri": "https://localhost:8080/"
        }
      },
      "execution_count": null,
      "outputs": [
        {
          "output_type": "execute_result",
          "data": {
            "text/plain": [
              "['Hola',\n",
              " 'mundo',\n",
              " 'estamos',\n",
              " 'explicando',\n",
              " 'el funcionamiento de split en Python']"
            ]
          },
          "metadata": {},
          "execution_count": 30
        }
      ]
    },
    {
      "cell_type": "markdown",
      "source": [
        "## LISTAS\n",
        "\n",
        "### append(objet) Añade un objeto al final de la lista. El objeto puede ser cualquier tipo de dato en Python, como un objeto de lista, de diccionario o de clase."
      ],
      "metadata": {
        "id": "PFVJzOl_gnQr"
      }
    },
    {
      "cell_type": "code",
      "source": [
        "notas_musicales = [\"Do\", \"Re\", \"Mi\", \"Fa\", \"Sol\", \"La\" \"Si\",\"Do\"]\n",
        "notas_musicales.append(\"Si\")\n",
        "print(notas_musicales)"
      ],
      "metadata": {
        "id": "qsmhFbUWgxNZ",
        "outputId": "77ceb061-e17c-434c-e319-fe0e08d1edca",
        "colab": {
          "base_uri": "https://localhost:8080/"
        }
      },
      "execution_count": null,
      "outputs": [
        {
          "output_type": "stream",
          "name": "stdout",
          "text": [
            "['Do', 'Re', 'Mi', 'Fa', 'Sol', 'LaSi', 'Do', 'Si']\n"
          ]
        }
      ]
    },
    {
      "cell_type": "markdown",
      "source": [
        "### count(value) Devuelve el número de veces que se encontró un dato en la lista.\n",
        "\n"
      ],
      "metadata": {
        "id": "35CA6r2ahxIA"
      }
    },
    {
      "cell_type": "code",
      "source": [
        "aList = [123, 'xyz', 'zara', 'abc', 123]\n",
        "\n",
        "print(\"Veces que esta 123 en la lista : \", aList.count(123))\n",
        "print(\"Veces que esta zara en la lista : \", aList.count('zara'))"
      ],
      "metadata": {
        "id": "ImIpRBe8h4Xz",
        "outputId": "f48c78ce-a76d-4b90-a32b-68fb2e1a5852",
        "colab": {
          "base_uri": "https://localhost:8080/"
        }
      },
      "execution_count": null,
      "outputs": [
        {
          "output_type": "stream",
          "name": "stdout",
          "text": [
            "Veces que esta 123 en la lista :  2\n",
            "Veces que esta zara en la lista :  1\n"
          ]
        }
      ]
    },
    {
      "cell_type": "markdown",
      "source": [
        "### extend(iterable) Añade los elementos del iterable a la lista."
      ],
      "metadata": {
        "id": "i-4vMmJdiclS"
      }
    },
    {
      "cell_type": "code",
      "source": [
        "notas_musicales = [\"Do\", \"Re\", \"Mi\", \"Fa\", \"Sol\", \"La\"]\n",
        "notas_musicales.extend(\"Si\")\n",
        "print(notas_musicales)"
      ],
      "metadata": {
        "id": "yH6U2eReixU9",
        "outputId": "08ef8790-202b-43fa-ae21-7ff3245ddd13",
        "colab": {
          "base_uri": "https://localhost:8080/"
        }
      },
      "execution_count": null,
      "outputs": [
        {
          "output_type": "stream",
          "name": "stdout",
          "text": [
            "['Do', 'Re', 'Mi', 'Fa', 'Sol', 'La', 'S', 'i']\n"
          ]
        }
      ]
    },
    {
      "cell_type": "code",
      "source": [
        "lst = []\n",
        "word = 'Sample'\n",
        "lst.extend(word)\n",
        "print(lst)"
      ],
      "metadata": {
        "id": "RrvXDFHDVwrJ"
      },
      "execution_count": null,
      "outputs": []
    },
    {
      "cell_type": "markdown",
      "source": [
        "diferencia con append"
      ],
      "metadata": {
        "id": "9kO8tJgGjADA"
      }
    },
    {
      "cell_type": "code",
      "source": [
        "A = [1, 2]\n",
        "A.extend([3, 4])\n",
        "print(A)"
      ],
      "metadata": {
        "id": "QFGbMKiOijt7",
        "outputId": "3895fef7-2626-45f0-ad4e-4f0291a30b31",
        "colab": {
          "base_uri": "https://localhost:8080/"
        }
      },
      "execution_count": null,
      "outputs": [
        {
          "output_type": "stream",
          "name": "stdout",
          "text": [
            "[1, 2, 3, 4]\n"
          ]
        }
      ]
    },
    {
      "cell_type": "code",
      "source": [
        "A = [1, 2]\n",
        "A.append([3, 4])\n",
        "print(A)"
      ],
      "metadata": {
        "id": "GrtHscKwjEAu",
        "outputId": "798f6971-a928-4c74-c624-b42f3c0a3d7a",
        "colab": {
          "base_uri": "https://localhost:8080/"
        }
      },
      "execution_count": null,
      "outputs": [
        {
          "output_type": "stream",
          "name": "stdout",
          "text": [
            "[1, 2, [3, 4]]\n"
          ]
        }
      ]
    },
    {
      "cell_type": "markdown",
      "source": [
        "### index(value) Devuelve la posición en la que se encontró la primera ocurrencia de value. Si se especifican, start y stop definen las posiciones de inicio y fin de una sublista en la que buscar."
      ],
      "metadata": {
        "id": "m0LekpgwjPnD"
      }
    },
    {
      "cell_type": "code",
      "source": [
        " versiones = [2.1, 2.5, 3.6, 4, 5, 6, 4]\n",
        " print(versiones.index(4))"
      ],
      "metadata": {
        "id": "Qs_B0VMpjWJZ",
        "outputId": "c132deba-e40d-4356-9275-2f3cf171b68f",
        "colab": {
          "base_uri": "https://localhost:8080/"
        }
      },
      "execution_count": null,
      "outputs": [
        {
          "output_type": "stream",
          "name": "stdout",
          "text": [
            "3\n"
          ]
        }
      ]
    },
    {
      "cell_type": "markdown",
      "source": [
        "### insert(index,objeto) Inserta el objeto object en una posición determinada."
      ],
      "metadata": {
        "id": "tWc-21ppjkxF"
      }
    },
    {
      "cell_type": "code",
      "source": [
        "nombres = [\"Alvaro\", \"Jacinto\", \"Miguel\", \"Edgardo\", \"David\"] \n",
        "nombres.insert(0, \"Ricardo\") \n",
        "print(nombres)"
      ],
      "metadata": {
        "id": "p1sUdsmGjy1V",
        "outputId": "49bce138-866e-4b99-96b7-d0f465fd2a0b",
        "colab": {
          "base_uri": "https://localhost:8080/"
        }
      },
      "execution_count": null,
      "outputs": [
        {
          "output_type": "stream",
          "name": "stdout",
          "text": [
            "['Ricardo', 'Alvaro', 'Jacinto', 'Miguel', 'Edgardo', 'David']\n"
          ]
        }
      ]
    },
    {
      "cell_type": "markdown",
      "source": [
        "### pop(index) Devuelve el valor en la posición index y lo elimina de la lista. Si no se especifica la posición, se utiliza el último elemento de la lista."
      ],
      "metadata": {
        "id": "_A6gtZnPkII7"
      }
    },
    {
      "cell_type": "code",
      "source": [
        "ciudades = ['New York', 'Dallas', 'San Antonio', 'Houston', 'San Francisco']\n",
        "\n",
        "print ( \"Ciudad removida : \", ciudades.pop() )\n",
        "print ( \"La ciudad en el indice 2 es : \", ciudades.pop(2) )"
      ],
      "metadata": {
        "id": "kf7wWZNKkNdf",
        "outputId": "dde0263f-f1df-4896-c4f5-7a7c831e6936",
        "colab": {
          "base_uri": "https://localhost:8080/"
        }
      },
      "execution_count": null,
      "outputs": [
        {
          "output_type": "stream",
          "name": "stdout",
          "text": [
            "Ciudad removida :  San Francisco\n",
            "La ciudad en el indice 2 es :  San Antonio\n"
          ]
        }
      ]
    },
    {
      "cell_type": "code",
      "source": [
        "ciudades = ['New York', 'Dallas', 'San Antonio', 'Houston', 'San Francisco']\n",
        "\n",
        "print ( \"Ciudad removida : \", ciudades.pop() )\n",
        "print ( \"La ciudad en el indice 2 es : \", ciudades.pop(2) )\n",
        "print (ciudades)"
      ],
      "metadata": {
        "id": "6LHsDMBH1Ux2",
        "outputId": "17f6ad69-4623-45c8-db03-9efa537fb0fe",
        "colab": {
          "base_uri": "https://localhost:8080/"
        }
      },
      "execution_count": null,
      "outputs": [
        {
          "output_type": "stream",
          "name": "stdout",
          "text": [
            "Ciudad removida :  San Francisco\n",
            "La ciudad en el indice 2 es :  San Antonio\n",
            "['New York', 'Dallas', 'Houston']\n"
          ]
        }
      ]
    },
    {
      "cell_type": "markdown",
      "source": [
        "### remove(value) Eliminar la primera ocurrencia de value en la lista, elimina el primer elemento de la lista, cuyo valor es igual al del argumento pasado. Cuando se utiliza este método, normalmente no se sabe o no le importa cuál es el índice del elemento que se va a eliminar."
      ],
      "metadata": {
        "id": "tAciJlfYkZLc"
      }
    },
    {
      "cell_type": "code",
      "source": [
        "names = ['Bob', 'Cindy', 'Noah']\n",
        "names.remove('Cindy')\n",
        "print(names)"
      ],
      "metadata": {
        "id": "qiqSPKO8keJ5",
        "outputId": "30bb24b1-6369-4b55-f4be-917f6280783b",
        "colab": {
          "base_uri": "https://localhost:8080/"
        }
      },
      "execution_count": null,
      "outputs": [
        {
          "output_type": "stream",
          "name": "stdout",
          "text": [
            "['Bob', 'Noah']\n"
          ]
        }
      ]
    },
    {
      "cell_type": "code",
      "source": [
        "names = ['Bob', 'Cindy', 'Noah']\n",
        "names.remove('Bob')\n",
        "print(names)"
      ],
      "metadata": {
        "id": "ejnJ5ldV1vAi",
        "outputId": "4d98a4d8-b41c-4ff4-ecbb-a92c4b2243dd",
        "colab": {
          "base_uri": "https://localhost:8080/"
        }
      },
      "execution_count": null,
      "outputs": [
        {
          "output_type": "stream",
          "name": "stdout",
          "text": [
            "['Cindy', 'Noah']\n"
          ]
        }
      ]
    },
    {
      "cell_type": "markdown",
      "source": [
        "### reverse() Invierte la lista. Esta función trabaja sobre la propia lista desde la que se invoca el método, no sobre una copia."
      ],
      "metadata": {
        "id": "hheCEPEBkzOV"
      }
    },
    {
      "cell_type": "code",
      "source": [
        "list=[\"cat\",\"dog\",\"bird\",\"insects\"]\n",
        "list.reverse()\n",
        "print(list)"
      ],
      "metadata": {
        "id": "tbAEVQtfk3au",
        "outputId": "e0df6bf3-83d5-4573-ea48-54f2c4d1de76",
        "colab": {
          "base_uri": "https://localhost:8080/"
        }
      },
      "execution_count": null,
      "outputs": [
        {
          "output_type": "stream",
          "name": "stdout",
          "text": [
            "['insects', 'bird', 'dog', 'cat']\n"
          ]
        }
      ]
    },
    {
      "cell_type": "markdown",
      "source": [
        "### sort() Ordena la lista. "
      ],
      "metadata": {
        "id": "uNWpeqZvlFW6"
      }
    },
    {
      "cell_type": "code",
      "source": [
        "mi_lista = [67, 2, 999, 1, 15]\n",
        "mi_lista.sort()\n",
        "print(mi_lista)"
      ],
      "metadata": {
        "id": "UvE0MQHJlKWw",
        "outputId": "19c138ad-537b-4087-834f-f2154210e860",
        "colab": {
          "base_uri": "https://localhost:8080/"
        }
      },
      "execution_count": null,
      "outputs": [
        {
          "output_type": "stream",
          "name": "stdout",
          "text": [
            "[1, 2, 15, 67, 999]\n"
          ]
        }
      ]
    },
    {
      "cell_type": "code",
      "source": [
        "mi_lista = [67, 2, 999, 1, 15]\n",
        "mi_lista.sort()\n",
        "mi_lista.reverse()\n",
        "print(mi_lista)"
      ],
      "metadata": {
        "id": "VjusXjCZ2nUN",
        "outputId": "fefcfbcf-e3b2-4985-ce29-f66f148b3b7d",
        "colab": {
          "base_uri": "https://localhost:8080/"
        }
      },
      "execution_count": null,
      "outputs": [
        {
          "output_type": "stream",
          "name": "stdout",
          "text": [
            "[999, 67, 15, 2, 1]\n"
          ]
        }
      ]
    },
    {
      "cell_type": "markdown",
      "source": [
        "# DICCIONARIOS\n",
        "\n",
        "\n",
        "### get() Busca el valor de la clave k en el diccionario. Es equivalente a utilizar D[k] pero al utilizar este método podemos indicar un valor a devolver por defecto si no se encuentra la clave, mientras que con la sintaxis D[k], de no existir la clave se lanzaría una excepción."
      ],
      "metadata": {
        "id": "8xbyr39Dlf6q"
      }
    },
    {
      "cell_type": "code",
      "source": [
        "dic = {\"A\":1, \"B\":2} \n",
        "print(dic.get(\"A\")) \n",
        "print(dic.get(\"B\")) "
      ],
      "metadata": {
        "id": "yfE5jK-IlvFb",
        "outputId": "03fa8d74-b482-4839-b6cb-fd5b69f5f118",
        "colab": {
          "base_uri": "https://localhost:8080/"
        }
      },
      "execution_count": null,
      "outputs": [
        {
          "output_type": "stream",
          "name": "stdout",
          "text": [
            "1\n",
            "2\n"
          ]
        }
      ]
    },
    {
      "cell_type": "markdown",
      "source": [
        "### items() Devuelve una lista de tuplas con pares clave-valor. D.keys() Devuelve una lista de las claves del diccionario."
      ],
      "metadata": {
        "id": "pgaXTiqpl4J5"
      }
    },
    {
      "cell_type": "code",
      "source": [
        "colores = { \"amarillo\":\"yellow\", \"azul\":\"blue\", \"verde\":\"green\" }\n",
        "colores.items()"
      ],
      "metadata": {
        "id": "R_c4ggzyl8it",
        "outputId": "37841025-ec5b-4d63-86ed-4df0add1a85b",
        "colab": {
          "base_uri": "https://localhost:8080/"
        }
      },
      "execution_count": null,
      "outputs": [
        {
          "output_type": "execute_result",
          "data": {
            "text/plain": [
              "dict_items([('amarillo', 'yellow'), ('azul', 'blue'), ('verde', 'green')])"
            ]
          },
          "metadata": {},
          "execution_count": 49
        }
      ]
    },
    {
      "cell_type": "code",
      "source": [
        "colores = { \"amarillo\":\"yellow\", \"azul\":\"blue\", \"verde\":\"green\" }\n",
        "colores.items()"
      ],
      "metadata": {
        "id": "sWdqr_0z3t-u"
      },
      "execution_count": null,
      "outputs": []
    },
    {
      "cell_type": "markdown",
      "source": [
        "### pop() Borra la clave k del diccionario y devuelve su valor. Si no se encuentra dicha clave se devuelve d si se especificó el parámetro o bien se lanza una excepción.D.values() Devuelve una lista de los valores del diccionario."
      ],
      "metadata": {
        "id": "cBvtuDlNqk6A"
      }
    },
    {
      "cell_type": "code",
      "source": [
        "colores = { \"amarillo\":\"yellow\", \"azul\":\"blue\", \"verde\":\"green\" }\n",
        "colores.pop(\"amarillo\")\n",
        "print(colores)"
      ],
      "metadata": {
        "id": "9yR5Miy1qqgd",
        "outputId": "8941f357-04f1-4640-c1b3-4081f5879ae0",
        "colab": {
          "base_uri": "https://localhost:8080/"
        }
      },
      "execution_count": null,
      "outputs": [
        {
          "output_type": "stream",
          "name": "stdout",
          "text": [
            "{'azul': 'blue', 'verde': 'green'}\n"
          ]
        }
      ]
    },
    {
      "cell_type": "code",
      "source": [
        "colores = { \"amarillo\":\"yellow\", \"azul\":\"blue\", \"verde\":\"green\" }\n",
        "colores.pop(\"azul\")\n",
        "print(colores)"
      ],
      "metadata": {
        "id": "La1Nxjai4GCh",
        "outputId": "d044a077-0939-4198-a133-ae08703b273c",
        "colab": {
          "base_uri": "https://localhost:8080/"
        }
      },
      "execution_count": null,
      "outputs": [
        {
          "output_type": "stream",
          "name": "stdout",
          "text": [
            "{'amarillo': 'yellow', 'verde': 'green'}\n"
          ]
        }
      ]
    }
  ]
}