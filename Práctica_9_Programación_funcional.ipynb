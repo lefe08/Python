{
  "nbformat": 4,
  "nbformat_minor": 0,
  "metadata": {
    "colab": {
      "name": "Práctica 9. Programación funcional.ipynb",
      "provenance": [],
      "collapsed_sections": [],
      "authorship_tag": "ABX9TyPWOY7Y89w8TDOxCeUUnp5P",
      "include_colab_link": true
    },
    "kernelspec": {
      "name": "python3",
      "display_name": "Python 3"
    },
    "language_info": {
      "name": "python"
    }
  },
  "cells": [
    {
      "cell_type": "markdown",
      "metadata": {
        "id": "view-in-github",
        "colab_type": "text"
      },
      "source": [
        "<a href=\"https://colab.research.google.com/github/lefe08/Python/blob/main/Pr%C3%A1ctica_9_Programaci%C3%B3n_funcional.ipynb\" target=\"_parent\"><img src=\"https://colab.research.google.com/assets/colab-badge.svg\" alt=\"Open In Colab\"/></a>"
      ]
    },
    {
      "cell_type": "markdown",
      "source": [
        "#Práctica 9. Programación funcional.\n",
        "#Ejercicio 1 \n",
        "#Realice un programa que pregunte aleatoriamente una multiplicación. El programa debe indicar si la respuesta ha sido correcta o no (en caso que la respuesta sea incorrecta el programa debe indicar cuál es la correcta). El programa preguntará 10 multiplicaciones, y al finalizar mostrará el número de aciertos.\n",
        "\n",
        "#Análizar\n",
        "#Hacemos un bucle con 10 iteraciones, en cada iteración se inicializan dos números con un valor aleatorio (de 2 a 10). Se calcula la multiplicación.\n",
        "#Mostramos la multiplicación, y pedimos por teclado el resultado. Si coincide con la multiplicación calculada cuento un acierto, sino escribimos un mensaje de error mostrando el resultado correcto. Cuando salimos del bucle mostramos el número de aciertos.\n",
        "\n",
        "#Ejemplo. imprime una multiplicacion (9 * 8 = )por teclado se ingresa la respuesta, eso pasa 10 veces y al final nos imprime cuantas respuestas fueron correctas"
      ],
      "metadata": {
        "id": "jHAK1pg28cgJ"
      }
    },
    {
      "cell_type": "code",
      "source": [
        "import  random # importamos random\n",
        "\n",
        "def   mult():# creamos funcion \n",
        "      c = 1 # creamos variable contador \n",
        "      a = 0 # creamos variable aciertas \n",
        "      c2 = 0 # creamos variable contador2 \n",
        "      while  c <= 10:   #crear bucle con 10 interaciónes \n",
        "            n1 = random.randint(1,10) #variable de num1_num2\n",
        "            n2 = random.randint(2,10)\n",
        "            r = n1 * n2  #operación        \n",
        "            print(f'{c} la multiplicación de: {n1} * {n2}')\n",
        "            a = int (input('Resultado:'))\n",
        "            if(a == r):\n",
        "             print('Respuesta correcta')\n",
        "             c2+= 1\n",
        "            else: \n",
        "                 print(f'La respuesta correcta es{r}')\n",
        "            c += 1 \n",
        "            print(f'Tuviste {c2} respuesta correctas')\n",
        "\n",
        "\n",
        "mult()"
      ],
      "metadata": {
        "colab": {
          "base_uri": "https://localhost:8080/"
        },
        "id": "f84dL3aV8u4T",
        "outputId": "cef8472f-9736-414c-e9d3-99b466c43f16"
      },
      "execution_count": null,
      "outputs": [
        {
          "output_type": "stream",
          "name": "stdout",
          "text": [
            "1 la multiplicación de: 3 * 8\n",
            "Resultado:24\n",
            "Respuesta correcta\n",
            "Tuviste 1 respuesta correctas\n",
            "2 la multiplicación de: 7 * 3\n",
            "Resultado:21\n",
            "Respuesta correcta\n",
            "Tuviste 2 respuesta correctas\n",
            "3 la multiplicación de: 9 * 9\n",
            "Resultado:81\n",
            "Respuesta correcta\n",
            "Tuviste 3 respuesta correctas\n",
            "4 la multiplicación de: 8 * 10\n",
            "Resultado:80\n",
            "Respuesta correcta\n",
            "Tuviste 4 respuesta correctas\n",
            "5 la multiplicación de: 2 * 3\n",
            "Resultado:6\n",
            "Respuesta correcta\n",
            "Tuviste 5 respuesta correctas\n",
            "6 la multiplicación de: 8 * 9\n",
            "Resultado:72\n",
            "Respuesta correcta\n",
            "Tuviste 6 respuesta correctas\n",
            "7 la multiplicación de: 6 * 10\n",
            "Resultado:60\n",
            "Respuesta correcta\n",
            "Tuviste 7 respuesta correctas\n",
            "8 la multiplicación de: 10 * 5\n",
            "Resultado:50\n",
            "Respuesta correcta\n",
            "Tuviste 8 respuesta correctas\n",
            "9 la multiplicación de: 4 * 7\n",
            "Resultado:28\n",
            "Respuesta correcta\n",
            "Tuviste 9 respuesta correctas\n",
            "10 la multiplicación de: 10 * 3\n",
            "Resultado:30\n",
            "Respuesta correcta\n",
            "Tuviste 10 respuesta correctas\n"
          ]
        }
      ]
    },
    {
      "cell_type": "markdown",
      "source": [
        "#Ejercicio2\n",
        "#Obtener el cuadrado de todos los elementos en la lista.\n",
        "#Lista: [1,2,3,4,5,6,7,8,9,10]\n",
        "#Creamos lista"
      ],
      "metadata": {
        "id": "FQC9B5Gt908Z"
      }
    },
    {
      "cell_type": "code",
      "source": [
        "lista = []\n",
        "#crear un rango\n",
        "for nùmero in range(0, 11):\n",
        "    lista.append(nùmero**2) #agregar a la lista la operaciòn cuadrada\n",
        "print(lista)"
      ],
      "metadata": {
        "colab": {
          "base_uri": "https://localhost:8080/"
        },
        "id": "kr5GzSag95M9",
        "outputId": "82cae383-3d33-42db-f440-5fa100be480f"
      },
      "execution_count": null,
      "outputs": [
        {
          "output_type": "stream",
          "name": "stdout",
          "text": [
            "[0, 1, 4, 9, 16, 25, 36, 49, 64, 81, 100]\n"
          ]
        }
      ]
    },
    {
      "cell_type": "code",
      "source": [
        "def cuadrado(numero):\n",
        "        return  numero**2\n",
        "numeros = [1, 2, 3, 4, 5, 6, 7, 8, 9, 10]\n",
        "map(cuadrado, numeros)"
      ],
      "metadata": {
        "colab": {
          "base_uri": "https://localhost:8080/"
        },
        "id": "8atxULMeHuyG",
        "outputId": "e0a50952-b0ad-4df6-90f5-11b869546fd1"
      },
      "execution_count": 46,
      "outputs": [
        {
          "output_type": "execute_result",
          "data": {
            "text/plain": [
              "<map at 0x7ff0bb904990>"
            ]
          },
          "metadata": {},
          "execution_count": 46
        }
      ]
    },
    {
      "cell_type": "markdown",
      "source": [
        "#Ejercicio 3 \n",
        "#Obtener la cantidad de elementos mayores a 5 en la tupla.\n",
        "#tupla = (5,2,6,7,8,10,77,55,2,1,30,4,2,3)"
      ],
      "metadata": {
        "id": "9NqwQ3YY-sWf"
      }
    },
    {
      "cell_type": "code",
      "source": [
        "def mayor(numero):\n",
        " if  numero>= 5:\n",
        "  return  True\n",
        "numeros = [5, 2, 6, 7, 8, 10, 77, 55, 2, 1, 30, 4, 2, 3]\n",
        "filter(mayor, numeros)\n",
        "\n",
        "\n",
        "\n",
        "\n"
      ],
      "metadata": {
        "id": "LC2Y-Yad-ue-",
        "colab": {
          "base_uri": "https://localhost:8080/"
        },
        "outputId": "26b22d98-a339-49ae-952a-2b128cbf0dd4"
      },
      "execution_count": 5,
      "outputs": [
        {
          "output_type": "execute_result",
          "data": {
            "text/plain": [
              "<filter at 0x7ff0c291f3d0>"
            ]
          },
          "metadata": {},
          "execution_count": 5
        }
      ]
    },
    {
      "cell_type": "code",
      "source": [
        "def mayor(numero):\n",
        " if  numero >= 5:\n",
        "  return  True\n",
        "\n",
        "numeros = [5, 2, 6, 7, 8, 10, 77, 55, 1, 30, 4, 2, 3]\n",
        "list(filter(mayor,numeros))"
      ],
      "metadata": {
        "colab": {
          "base_uri": "https://localhost:8080/"
        },
        "id": "9Jnun6hq0TL0",
        "outputId": "2a953fc7-cd78-4ba1-89d5-48e2715b5735"
      },
      "execution_count": null,
      "outputs": [
        {
          "output_type": "execute_result",
          "data": {
            "text/plain": [
              "[5, 6, 7, 8, 10, 77, 55, 30]"
            ]
          },
          "metadata": {},
          "execution_count": 47
        }
      ]
    },
    {
      "cell_type": "markdown",
      "source": [
        " # Ejercicio 4\n",
        " # Obtener la suma de todos los elementos en la lista\n",
        " # lista = [1, 2, 3, 4]"
      ],
      "metadata": {
        "id": "U59rNSgcpiWZ"
      }
    },
    {
      "cell_type": "code",
      "source": [
        "from  functools import  reduce\n",
        "\n",
        "def     sum(x,y):\n",
        "        return  x+y\n",
        "lista = [1, 2, 3, 4]\n",
        "print(reduce(sum,lista))"
      ],
      "metadata": {
        "id": "nncIMvbh3RLU",
        "colab": {
          "base_uri": "https://localhost:8080/"
        },
        "outputId": "a959d81f-f65c-4908-ba87-a9a0faac83ec"
      },
      "execution_count": 45,
      "outputs": [
        {
          "output_type": "stream",
          "name": "stdout",
          "text": [
            "10\n"
          ]
        }
      ]
    }
  ]
}