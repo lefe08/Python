{
  "nbformat": 4,
  "nbformat_minor": 0,
  "metadata": {
    "colab": {
      "name": "Evaluavción4.ipynb",
      "provenance": [],
      "collapsed_sections": [],
      "include_colab_link": true
    },
    "kernelspec": {
      "name": "python3",
      "display_name": "Python 3"
    },
    "language_info": {
      "name": "python"
    }
  },
  "cells": [
    {
      "cell_type": "markdown",
      "metadata": {
        "id": "view-in-github",
        "colab_type": "text"
      },
      "source": [
        "<a href=\"https://colab.research.google.com/github/lefe08/Python/blob/main/Evaluavci%C3%B3n4.ipynb\" target=\"_parent\"><img src=\"https://colab.research.google.com/assets/colab-badge.svg\" alt=\"Open In Colab\"/></a>"
      ]
    },
    {
      "cell_type": "markdown",
      "source": [
        "# Práctica 4. \n",
        "6 puntos\n",
        "\n",
        "Tipos de colección de datos.\n",
        "\n",
        "## 4.1 Ejercicio 1(1.2 puntos)\n",
        "Realizar un programa que inicialice una lista con 10 valores aleatorios (del 1 al 10) y posteriormente muestre en pantalla cada elemento de la lista junto con su cuadrado y su cubo. Respuesta:\n",
        "\n"
      ],
      "metadata": {
        "id": "5401D1bpSsU-"
      }
    },
    {
      "cell_type": "code",
      "execution_count": null,
      "metadata": {
        "id": "2evc8LMxSrwF",
        "colab": {
          "base_uri": "https://localhost:8080/"
        },
        "outputId": "1454e82f-99b3-4a9b-acf8-ee146f4ed173"
      },
      "outputs": [
        {
          "output_type": "stream",
          "name": "stdout",
          "text": [
            "2  4  8\n",
            "6  36  216\n",
            "4  16  64\n",
            "3  9  27\n",
            "3  9  27\n",
            "4  16  64\n",
            "4  16  64\n",
            "10  100  1000\n",
            "3  9  27\n",
            "5  25  125\n"
          ]
        }
      ],
      "source": [
        "# Generar los nùmeros aleatorios\n",
        "import  random\n",
        "lista_numeros = [] # la lista donde se guardaràn\n",
        "# For para leer la lista\n",
        "for indice  in range(1,11):\n",
        " lista_numeros.append(random.randint(1,10)) # agregamos los valores a lista con.append\n",
        " ## segundo recorrido para mostrar el resultado\n",
        "for numero  in  lista_numeros:\n",
        " print(numero,\"\", numero **2, \"\",numero **3)"
      ]
    },
    {
      "cell_type": "markdown",
      "source": [
        "## 4.2 Ejercicio 2 (1.2 puntos)\n",
        "Crea una lista e inicializarla con 5 cadenas de caracteres leídas por teclado. Copia los elementos de la lista en otra lista pero en orden inverso, y muestra sus elementos por la pantalla.\n",
        "\n"
      ],
      "metadata": {
        "id": "mYeAdvL-S2m4"
      }
    },
    {
      "cell_type": "code",
      "source": [
        "lista1=[] #la primera lista\n",
        "lista2=[] #la segunda lista\n",
        "# recorrer la lista1 leer cada elemento por teclado\n",
        "for indice in range(1,6):\n",
        "  lista1.append(input(\"Dame la cadena %d:\" % indice)) \n",
        "#%d utilizamos p/asignar el valor de_nùmero_entero_del_indice\n",
        "# copio_la_lista1_en_lista2_en_orden_inverso\n",
        "  lista2 = lista1[::-1]#::_utilizamos_para_que_recorra_de_inicio_a_fin_empezando_con_-1_desde_el_final\n",
        "# recorrer_el_vector2_para_mostrarlo\n",
        "for cadena in lista2:\n",
        " print(cadena) \n",
        "\n",
        "\n"
      ],
      "metadata": {
        "id": "sW9gox1pS75K",
        "colab": {
          "base_uri": "https://localhost:8080/"
        },
        "outputId": "06249f33-f050-4daa-a2e0-a0e6bca14cf2"
      },
      "execution_count": 7,
      "outputs": [
        {
          "output_type": "stream",
          "name": "stdout",
          "text": [
            "Dame la cadena 1:1\n",
            "Dame la cadena 2:2\n",
            "Dame la cadena 3:3\n",
            "Dame la cadena 4:4\n",
            "Dame la cadena 5:5\n",
            "5\n",
            "4\n",
            "3\n",
            "2\n",
            "1\n"
          ]
        }
      ]
    },
    {
      "cell_type": "markdown",
      "source": [
        "## 4.3 Ejercicio 3 (1.2 puntos)\n",
        "Se quiere realizar un programa que lea por teclado las 5 notas obtenidas por un alumno (comprendidas entre 0 y 10). A continuación debe mostrar todas las notas, la nota media, la nota más alta que ha sacado y la menor.\n",
        "\n"
      ],
      "metadata": {
        "id": "QWYc_eqVS96C"
      }
    },
    {
      "cell_type": "code",
      "source": [
        "#Tu codigo aqui\n",
        "notas = []\n",
        "cont=1\n",
        "while cont<6:\n",
        "  nota = int (input('Introduce la nota %i:' % cont))\n",
        "  if  nota>=0 and nota<=10:\n",
        "    cont = cont +1\n",
        "    notas.append(nota)\n",
        "  else:\n",
        "    print('formato incorrecto, ingresa de nuevo la calificación')\n",
        "  print('notas:')\n",
        "  print('------------------')\n",
        "  print(\"Nota media:\",sum(notas)/len(notas))\n",
        "  print(\"Nota max:\",max(notas))\n",
        "  print(\"Nota min:\",min(notas))"
      ],
      "metadata": {
        "id": "9NtUBQ3rTAlZ",
        "colab": {
          "base_uri": "https://localhost:8080/"
        },
        "outputId": "aa341858-a6c8-4859-8be4-bad9ce0bb3fd"
      },
      "execution_count": 5,
      "outputs": [
        {
          "output_type": "stream",
          "name": "stdout",
          "text": [
            "Introduce la nota 1:1\n",
            "notas:\n",
            "------------------\n",
            "Nota media: 1.0\n",
            "Nota max: 1\n",
            "Nota min: 1\n",
            "Introduce la nota 2:2\n",
            "notas:\n",
            "------------------\n",
            "Nota media: 1.5\n",
            "Nota max: 2\n",
            "Nota min: 1\n",
            "Introduce la nota 3:3\n",
            "notas:\n",
            "------------------\n",
            "Nota media: 2.0\n",
            "Nota max: 3\n",
            "Nota min: 1\n",
            "Introduce la nota 4:4\n",
            "notas:\n",
            "------------------\n",
            "Nota media: 2.5\n",
            "Nota max: 4\n",
            "Nota min: 1\n",
            "Introduce la nota 5:5\n",
            "notas:\n",
            "------------------\n",
            "Nota media: 3.0\n",
            "Nota max: 5\n",
            "Nota min: 1\n"
          ]
        }
      ]
    },
    {
      "cell_type": "markdown",
      "source": [
        "## 4.4 Ejercicio 4 (1.2 puntos)\n",
        "Codifica un programa en python que nos permita guardar los nombres de los alumnos de una clase y las notas que han obtenido. Cada alumno puede tener distinta cantidad de notas. Guarda la información en un diccionario cuya claves serán los nombres de los alumnos y los valores serán listados con las notas de cada alumno.\n",
        "\n",
        "El programa pedirá el número de alumnos que vamos a introducir, pedirá su nombre e irá pidiendo sus notas hasta que introduzcamos un número negativo. Al final el programa nos mostrará la lista de alumnos y la nota media obtenida por cada uno de ellos. Nota: si se introduce el nombre de un alumno que ya existe el programa nos dará un error.\n",
        "\n"
      ],
      "metadata": {
        "id": "0SZRy56KTC3q"
      }
    },
    {
      "cell_type": "code",
      "source": [
        "#Tu código aqui\n",
        "alumnos = {}\n",
        "notas= []\n",
        "cantidad  = int(input('Introduce la cantidad de alumnos que vamos a guardar:'))\n",
        "for num in range(cantidad):\n",
        "  alumno = input('Nombre del alumno:')\n",
        "  \n",
        "  while alumno in  alumnos:\n",
        "    print('Alumno ya existe.')\n",
        "    alumno = input('Nombre del alumno:')\n",
        "  nota = int(input('Dame una nota del alumno  (negativo para terminar):'))\n",
        "  while nota > 0:\n",
        "    notas.append(nota)\n",
        "    nota = int(input('Dame una nota del alumno (negativo para terminar):'))\n",
        "    alumnos[alumno] = notas.copy()\n",
        "\n",
        "for alumno, notas in alumnos.items():\n",
        "    print('%s ha sacado de nota media %f' %(alumno, sum(notas)/len(notas)))"
      ],
      "metadata": {
        "id": "Zai6eApUTGzk",
        "colab": {
          "base_uri": "https://localhost:8080/"
        },
        "outputId": "7a8dcf08-4112-4db7-8e50-8d352acccb8d"
      },
      "execution_count": 1,
      "outputs": [
        {
          "name": "stdout",
          "output_type": "stream",
          "text": [
            "Introduce la cantidad de alumnos que vamos a guardar:0\n"
          ]
        }
      ]
    },
    {
      "cell_type": "markdown",
      "source": [
        "## 4.5 Ejercicio 5 (1.2 puntos)\n",
        "Crea una tupla con los meses del año, pide números al usuario, si el número está entre 1 y la longitud máxima de la tupla, muestra el contenido de esa posición sino muestra un mensaje de error. El programa termina cuando el usuario introduce un cero.\n",
        "\n"
      ],
      "metadata": {
        "id": "BXyaY22ATI-M"
      }
    },
    {
      "cell_type": "code",
      "source": [
        "# una_tupla_con_los_meses__con_variable_meses\n",
        "meses =(\"january\",\"february\", \"march\", \"april\", \"may\", \"june\", \"july\", \"august\", \"september\", \"october\", \"november\", \"december\")\n",
        "#variable_numero_pedimos_el_nùmero\n",
        "numero = int(input(\"Dame un numero:\")) \n",
        "# ciclo_si_el_nùmero_esta_entre_los_numeros_de_meses_que_sea_mayor_a_0_para_para_pausarla_o_salir_si_da_numero_negativo\n",
        "while(numero>=0):\n",
        "  if(numero>=1 and numero<=len(meses)):\n",
        "    print(meses[numero-1]) \n",
        "    numero= int(input(\"Dame un numero:\"))\n",
        "  else:\n",
        "    print(\"Inserta un número entre 1 y \", len(meses))\n",
        "    numero = int(input(\".Dame un numero(dame un nùmero negativo para terminar):\"))\n",
        "    \n",
        "else:\n",
        "\n",
        " print(\"adios\")"
      ],
      "metadata": {
        "id": "c4mkDJNtTLLz",
        "colab": {
          "base_uri": "https://localhost:8080/"
        },
        "outputId": "27bb9ded-a323-4a7a-efd9-5ca7cf1a0462"
      },
      "execution_count": null,
      "outputs": [
        {
          "output_type": "stream",
          "name": "stdout",
          "text": [
            "Dame un numero:1\n",
            "january\n",
            "Dame un numero:2\n",
            "february\n",
            "Dame un numero:3\n",
            "march\n",
            "Dame un numero:4\n",
            "april\n",
            "Dame un numero:5\n",
            "may\n",
            "Dame un numero:6\n",
            "june\n",
            "Dame un numero:7\n",
            "july\n",
            "Dame un numero:8\n",
            "august\n",
            "Dame un numero:9\n",
            "september\n",
            "Dame un numero:10\n",
            "october\n",
            "Dame un numero:11\n",
            "november\n",
            "Dame un numero:12\n",
            "december\n",
            "Dame un numero:0\n",
            "Inserta un número entre 1 y  12\n",
            ".Dame un numero(dame un nùmero negativo para terminar):-1\n",
            "adios\n"
          ]
        }
      ]
    }
  ]
}