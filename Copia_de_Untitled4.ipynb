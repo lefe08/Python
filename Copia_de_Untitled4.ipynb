{
  "nbformat": 4,
  "nbformat_minor": 0,
  "metadata": {
    "colab": {
      "name": "Copia de Untitled4.ipynb",
      "provenance": [],
      "authorship_tag": "ABX9TyOsSYioNYbrdufXSNQ0JSSd",
      "include_colab_link": true
    },
    "kernelspec": {
      "name": "python3",
      "display_name": "Python 3"
    },
    "language_info": {
      "name": "python"
    }
  },
  "cells": [
    {
      "cell_type": "markdown",
      "metadata": {
        "id": "view-in-github",
        "colab_type": "text"
      },
      "source": [
        "<a href=\"https://colab.research.google.com/github/lefe08/Python/blob/main/Copia_de_Untitled4.ipynb\" target=\"_parent\"><img src=\"https://colab.research.google.com/assets/colab-badge.svg\" alt=\"Open In Colab\"/></a>"
      ]
    },
    {
      "cell_type": "code",
      "execution_count": null,
      "metadata": {
        "colab": {
          "base_uri": "https://localhost:8080/",
          "height": 130
        },
        "id": "SBE8KuA5T0_6",
        "outputId": "a38647b0-c6a1-42ac-cf59-0b9275e85b94"
      },
      "outputs": [
        {
          "output_type": "error",
          "ename": "SyntaxError",
          "evalue": "ignored",
          "traceback": [
            "\u001b[0;36m  File \u001b[0;32m\"<ipython-input-2-63e2262e1bf4>\"\u001b[0;36m, line \u001b[0;32m26\u001b[0m\n\u001b[0;31m    elif   opción ==3:\u001b[0m\n\u001b[0m       ^\u001b[0m\n\u001b[0;31mSyntaxError\u001b[0m\u001b[0;31m:\u001b[0m invalid syntax\n"
          ]
        }
      ],
      "source": [
        "print(''' Menu de recomendaciones:\n",
        "Opción 1: Literatura:\n",
        "Opción 2: Cine\n",
        "Opción 3: MusiCa\n",
        "Opción 4: Videos juegos\n",
        "Opción 5 Salir''')\n",
        "\n",
        "opción = int (input('ingrese el numero de la opción deseada'))\n",
        "\n",
        "if opció < 1 or opción > 5 :\n",
        "  print('opción no válida')\n",
        "\n",
        "\n",
        "if opción == 1 :\n",
        "\n",
        "  print('''Lecturas recomendables:\n",
        "  Esperandolo a Tito y otros cuentos de futbol (Eduardo Sacheri)\n",
        "  El juego de Ender (Orson Scott Card)\n",
        "  El sueño de los héroes (Adolfo Bioy Casares)''')\n",
        "\n",
        "elif  opción == 2:\n",
        "  print(''' peliculas recomendables:)\n",
        "  Matrix (1999)\n",
        "  El último samuray (2003)\n",
        "  Cars (2006)'''\n",
        "elif  opción ==3:\n",
        "  print(''' Discos recomendables:\n",
        "  Despedazado por mil partes (La Renga , 1996)\n",
        "  Búfalo ( La Mississippi, 2008)\n",
        "  Gaia (Mago de Oz, 2003)'''\n",
        "\n",
        "elif  opción == 4:\n",
        "  print('''Videojuegos clasicos recomendables:\n",
        "  Dia del tentáculo (lucasArts, 1993)\n",
        "  Terminal Velocity ( Terminal Reality/3D Realms, 1995)\n",
        "  Death Rally (remedy /Apogee, 1996)'''\n",
        "\n",
        "elif opción == 5:\n",
        "  print('Gracias, Vuelve pronto') \n",
        "\n",
        "\n",
        "\n"
      ]
    }
  ]
}