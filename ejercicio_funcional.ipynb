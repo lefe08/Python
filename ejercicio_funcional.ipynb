{
  "nbformat": 4,
  "nbformat_minor": 0,
  "metadata": {
    "colab": {
      "name": "Copia de ejercicio_funcional.ipynb",
      "provenance": [],
      "include_colab_link": true
    },
    "kernelspec": {
      "name": "python3",
      "display_name": "Python 3"
    },
    "language_info": {
      "name": "python"
    }
  },
  "cells": [
    {
      "cell_type": "markdown",
      "metadata": {
        "id": "view-in-github",
        "colab_type": "text"
      },
      "source": [
        "<a href=\"https://colab.research.google.com/github/lefe08/Python/blob/main/ejercicio_funcional.ipynb\" target=\"_parent\"><img src=\"https://colab.research.google.com/assets/colab-badge.svg\" alt=\"Open In Colab\"/></a>"
      ]
    },
    {
      "cell_type": "code",
      "source": [
        ""
      ],
      "metadata": {
        "id": "N9r-Ip66PLSX"
      },
      "execution_count": null,
      "outputs": []
    },
    {
      "cell_type": "code",
      "execution_count": null,
      "metadata": {
        "id": "2FvjGz3EagUQ",
        "colab": {
          "base_uri": "https://localhost:8080/"
        },
        "outputId": "027aec9f-cb9f-40be-d9f0-e3610b88181c"
      },
      "outputs": [
        {
          "name": "stdout",
          "output_type": "stream",
          "text": [
            "Bienvenido a la calculadora\n",
            "opciónes.\n",
            "  1. sumar\n",
            "  2. restar \n",
            "  3. Dividir\n",
            "  4. Multiplicar\n",
            "  5. salir\n",
            "  \n",
            "Escoger opción 4\n",
            "Multiplicación \n",
            "ingresa el primer numero5645\n",
            "ingresa el segundo numero54564\n",
            "La multiplicación  de 5645.0 y de 54564.0 es : 308013780.0\n",
            "Bienvenido a la calculadora\n",
            "opciónes.\n",
            "  1. sumar\n",
            "  2. restar \n",
            "  3. Dividir\n",
            "  4. Multiplicar\n",
            "  5. salir\n",
            "  \n",
            "Escoger opción 1\n",
            "suma\n",
            "ingresa el primer numero2\n",
            "ingresa el segundo numero3\n",
            "La suma de 2.0 y de 3.0 es : 5.0\n",
            "Bienvenido a la calculadora\n",
            "opciónes.\n",
            "  1. sumar\n",
            "  2. restar \n",
            "  3. Dividir\n",
            "  4. Multiplicar\n",
            "  5. salir\n",
            "  \n",
            "Escoger opción 4\n",
            "Multiplicación \n",
            "ingresa el primer numero5\n",
            "ingresa el segundo numero3\n",
            "La multiplicación  de 5.0 y de 3.0 es : 15.0\n",
            "Bienvenido a la calculadora\n",
            "opciónes.\n",
            "  1. sumar\n",
            "  2. restar \n",
            "  3. Dividir\n",
            "  4. Multiplicar\n",
            "  5. salir\n",
            "  \n",
            "Escoger opción 5\n"
          ]
        }
      ],
      "source": [
        "#Realiza un programa que solicite dos números y una operación (suma, resta, división y multiplicación) e imprima el resultado.\n",
        "#Además deberá mostrar un menú con las siguientes opciones:\n",
        "#Mostrar números\n",
        "#Sumar\n",
        "#Restar\n",
        "#Dividir (considerar la división entre 0)\n",
        "#multipicar\n",
        "#cerrar calculadora\n",
        "\n",
        "def menu():\n",
        "  print('Bienvenido a la calculadora')\n",
        "  print('''opciónes.\n",
        "  1. sumar\n",
        "  2. restar \n",
        "  3. Dividir\n",
        "  4. Multiplicar\n",
        "  5. salir\n",
        "  ''')\n",
        "\n",
        "  opción= int(input('Escoger opción '))\n",
        "  if opción==1:\n",
        "    suma()\n",
        "  elif opción==2:\n",
        "    resta()\n",
        "  elif opción==3:\n",
        "    Dividir()\n",
        "  elif opción==4:\n",
        "    Multiplicar()\n",
        "  elif opción== 5:\n",
        "    exit()\n",
        "  else:\n",
        "    print(\"Opción invalida\")\n",
        "\n",
        "def suma():\n",
        "  print(\"suma\")\n",
        "  x = float(input(\"ingresa el primer numero\"))\n",
        "  y = float(input(\"ingresa el segundo numero\"))\n",
        "  print(f'La suma de {x} y de {y} es : {x+y}')\n",
        "  menu() \n",
        "\n",
        "def  resta():\n",
        "  print(\"resta\")\n",
        "  x = float(input(\"ingresa el primer numero\"))\n",
        "  y = float(input(\"ingresa el segundo numero\"))\n",
        "  print(f'La resta de {x} y de {y} es : {x-y}')\n",
        "  menu()\n",
        "\n",
        "\n",
        "\n",
        "def  Divición():\n",
        "  print(\"Divición\")\n",
        "  x = float(input(\"ingresa el primer numero\"))///\n",
        "  y = float(input(\"ingresa el segundo numero\"))\n",
        "  print(f'La Divición de {x} y de {y} es : {x/y}')\n",
        "  menu()\n",
        "\n",
        "\n",
        "def  Multiplicar():\n",
        "  print(\"Multiplicación \")\n",
        "  x = float(input(\"ingresa el primer numero\"))\n",
        "  y = float(input(\"ingresa el segundo numero\"))\n",
        "  print(f'La multiplicación  de {x} y de {y} es : {x*y}')\n",
        "  menu()\n",
        "\n",
        "menu()\n"
      ]
    }
  ]
}