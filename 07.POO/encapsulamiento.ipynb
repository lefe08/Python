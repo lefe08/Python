{
  "nbformat": 4,
  "nbformat_minor": 0,
  "metadata": {
    "colab": {
      "name": "encapsulamiento.ipynb",
      "provenance": [],
      "collapsed_sections": [],
      "include_colab_link": true
    },
    "kernelspec": {
      "name": "python3",
      "display_name": "Python 3"
    },
    "language_info": {
      "name": "python"
    }
  },
  "cells": [
    {
      "cell_type": "markdown",
      "metadata": {
        "id": "view-in-github",
        "colab_type": "text"
      },
      "source": [
        "<a href=\"https://colab.research.google.com/github/escuelaDeCodigoMargaritaMaza/Python/blob/main/07.POO/encapsulamiento.ipynb\" target=\"_parent\"><img src=\"https://colab.research.google.com/assets/colab-badge.svg\" alt=\"Open In Colab\"/></a>"
      ]
    },
    {
      "cell_type": "code",
      "execution_count": null,
      "metadata": {
        "id": "nFhpjbu7hCBE"
      },
      "outputs": [],
      "source": [
        "class Usuario:\n",
        "  def __init__ (self,nombre,folio,telefono,correo):\n",
        "    self._nombre=nombre   #este guion  indicara esta protegido Lo cual establece que solo puede ser accedido por esa clase y sus sub-clases\n",
        "    self.folio= folio\n",
        "    self.telefono = telefono\n",
        "    self.correo = correo\n",
        "    self.talleres =[]\n",
        "\n",
        "usuario6=Usuario('daniel','dfds','554875485','danielcorreo@correo.com')\n",
        "usuario6.nombre  #error\n",
        "usuario6._nombre"
      ]
    },
    {
      "cell_type": "code",
      "source": [
        "class Usuario:\n",
        "  def __init__ (self,nombre,folio,telefono,correo):\n",
        "    self.__nombre=nombre   #este guion doble indicara que es privado solo podrá ser accedido o modificado si se especifica la clase precedida por un guión bajo seguida del atributo precedido por doble guión bajo.\n",
        "    self.folio= folio\n",
        "    self.telefono = telefono\n",
        "    self.correo = correo\n",
        "    self.talleres =[]\n",
        "\n",
        "usuario7=Usuario('daniel','dfds','554875485','danielcorreo@correo.com')\n",
        "usuario7.__nombre  #error\n",
        "usuario7._Usuario__nombre"
      ],
      "metadata": {
        "id": "feRfmxD_hyem"
      },
      "execution_count": null,
      "outputs": []
    },
    {
      "cell_type": "code",
      "source": [
        "class Usuario:\n",
        "  def __init__ (self,nombre,folio,telefono,correo):\n",
        "    self.__nombre=nombre   \n",
        "    self.folio= folio\n",
        "    self.telefono = telefono\n",
        "    self.correo = correo\n",
        "    self.talleres =[]\n",
        "\n",
        "  @property\n",
        "  def nombre(self):\n",
        "    return self.__nombre\n",
        "\n",
        "\n",
        "  @nombre.setter #Propiedad SETTER\n",
        "  def nombre(self, nuevo):\n",
        "      print (\"Modificando nombre..\")\n",
        "      self.__nombre = nuevo\n",
        "      print (\"El nombre se ha modificado por\")\n",
        "      print (self.__nombre) #Aquí vuelvo a pedir que retorne el atributo para confirmar\n",
        "\n",
        "\n",
        "  \n",
        "      \n",
        "usuario7=Usuario('daniel','dfds','554875485','danielcorreo@correo.com')\n",
        "usuario7.nombre='pedro'"
      ],
      "metadata": {
        "id": "Qyqj5xpKE1rK"
      },
      "execution_count": null,
      "outputs": []
    },
    {
      "cell_type": "code",
      "source": [
        "class Usuario:\n",
        "  def __init__ (self,nombre,folio,telefono,correo):\n",
        "    self.__nombre=nombre   \n",
        "    self.__folio= folio\n",
        "    self.__telefono = telefono\n",
        "    self.__correo = correo\n",
        "\n",
        "  @property\n",
        "  def nombre(self):\n",
        "    return self.__nombre\n",
        "\n",
        "  @nombre.setter #Propiedad SETTER\n",
        "  def nombre(self, nuevo):\n",
        "      return self.__nombre\n",
        "\n",
        "  @property\n",
        "  def folio(self):\n",
        "    return self.__folio\n",
        "\n",
        "  @folio.setter #Propiedad SETTER\n",
        "  def folio(self, nuevofolio):\n",
        "      return self.__folio\n",
        "\n",
        "  @property\n",
        "  def telefono(self):\n",
        "    return self.__telefono\n",
        "\n",
        "  @telefono.setter #Propiedad SETTER\n",
        "  def telefono(self, nuevotelefono):\n",
        "      return self.__telefono  \n",
        "\n",
        "  @property\n",
        "  def correo(self):\n",
        "    return self.__correo\n",
        "\n",
        "  @correo.setter #Propiedad SETTER\n",
        "  def correo(self, nuevocorreo):\n",
        "    return self.__correo \n",
        "\n",
        "  def mostrar(self):\n",
        "    return \"Nombre:\" + self.nombre + \" - Folio:\"+self.folio + \" - telefono:\" + self.telefono + \" - correo \" + self.correo \n",
        "\n",
        "usuario9=Usuario('daniel','dfds','554875485','danielcorreo@correo.com')\n",
        "usuario9.mostrar()"
      ],
      "metadata": {
        "id": "3Pv3-X2iE65B"
      },
      "execution_count": null,
      "outputs": []
    }
  ]
}