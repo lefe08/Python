{
  "nbformat": 4,
  "nbformat_minor": 0,
  "metadata": {
    "colab": {
      "name": "Copia de una lista con 10 valores aleatorios4.ipynb",
      "provenance": [],
      "collapsed_sections": [],
      "authorship_tag": "ABX9TyMqAqcgOBNwu7m861bK244Q",
      "include_colab_link": true
    },
    "kernelspec": {
      "name": "python3",
      "display_name": "Python 3"
    },
    "language_info": {
      "name": "python"
    }
  },
  "cells": [
    {
      "cell_type": "markdown",
      "metadata": {
        "id": "view-in-github",
        "colab_type": "text"
      },
      "source": [
        "<a href=\"https://colab.research.google.com/github/lefe08/Python/blob/main/Copia_de_una_lista_con_10_valores_aleatorios4.ipynb\" target=\"_parent\"><img src=\"https://colab.research.google.com/assets/colab-badge.svg\" alt=\"Open In Colab\"/></a>"
      ]
    },
    {
      "cell_type": "markdown",
      "source": [
        ""
      ],
      "metadata": {
        "id": "5xDTV3mv1DHV"
      }
    },
    {
      "cell_type": "code",
      "source": [
        "#4.1 Ejercicio 1. Realizar un programa que inicialice una lista con 10 valores aleatorios y posteriormente muestre en pantalla\n",
        "# cada elemento de la lista junto con su cuadrado y su cubo.\n",
        "lista_num = []\n",
        "numero_r = random.randint(1,10)\n",
        "lista_num.append(numero_r) \n",
        "print(f'{numero_r} su cuadrado es {numero_r**2} el cubo es {numero_r**3}')\n",
        "numero_r = random.randint(1,10) \n",
        "lista_num.append(numero_r)\n",
        "print(f'{numero_r} su cuadrado es {numero_r**2} el cubo es {numero_r**3}')\n",
        "numero_r = random.randint(1,10)\n",
        "lista_num.append(numero_r)\n",
        "print(f'{numero_r} su cuadrado es {numero_r**2} el cubo es {numero_r**3}')\n",
        "numero_r = random.randint(1,10)\n",
        "lista_num.append(numero_r)\n",
        "print(f'{numero_r} su cuadrado es {numero_r**2} el cubo es {numero_r**3}')\n",
        "numero_r = random.randint(1,10)\n",
        "lista_num.append(numero_r)\n",
        "print(f'{numero_r} su cuadrado es {numero_r**2} el cubo es {numero_r**3}')\n",
        "numero_r = random.randint(1,10)\n",
        "lista_num.append(numero_r)\n",
        "print(f'{numero_r} su cuadrado es {numero_r**2} el cubo es {numero_r**3}')\n",
        "numero_r = random.randint(1,10)\n",
        "lista_num.append(numero_r)\n",
        "print(f'{numero_r} su cuadrado es {numero_r**2} el cubo es {numero_r**3}')\n",
        "numero_r = random.randint(1,10)\n",
        "lista_num.append(numero_r)\n",
        "print(f'{numero_r} su cuadrado es {numero_r**2} el cubo es {numero_r**3}')\n",
        "numero_r = random.randint(1,10)\n",
        "lista_num.append(numero_r)\n",
        "print(f'{numero_r} su cuadrado es {numero_r**2} el cubo es {numero_r**3}')\n",
        "numero_r = random.randint(1,10)\n",
        "lista_num.append(numero_r)\n",
        "print(f'{numero_r} su cuadrado es {numero_r**2} el cubo es {numero_r**3}')\n",
        "print(lista_num)"
      ],
      "metadata": {
        "id": "lLdhNR6s1jZb"
      },
      "execution_count": null,
      "outputs": []
    },
    {
      "cell_type": "code",
      "source": [
        ""
      ],
      "metadata": {
        "id": "ggKYdkiv1ov7"
      },
      "execution_count": null,
      "outputs": []
    }
  ]
}