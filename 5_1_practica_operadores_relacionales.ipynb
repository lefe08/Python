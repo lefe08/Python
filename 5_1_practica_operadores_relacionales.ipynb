{
  "nbformat": 4,
  "nbformat_minor": 0,
  "metadata": {
    "colab": {
      "name": "5.1 practica operadores_relacionales.ipynb",
      "provenance": [],
      "collapsed_sections": [],
      "authorship_tag": "ABX9TyODB3MLqMS4JBGMABEuEVuU",
      "include_colab_link": true
    },
    "kernelspec": {
      "name": "python3",
      "display_name": "Python 3"
    },
    "language_info": {
      "name": "python"
    }
  },
  "cells": [
    {
      "cell_type": "markdown",
      "metadata": {
        "id": "view-in-github",
        "colab_type": "text"
      },
      "source": [
        "<a href=\"https://colab.research.google.com/github/lefe08/Python/blob/main/5_1_practica_operadores_relacionales.ipynb\" target=\"_parent\"><img src=\"https://colab.research.google.com/assets/colab-badge.svg\" alt=\"Open In Colab\"/></a>"
      ]
    },
    {
      "cell_type": "code",
      "execution_count": 1,
      "metadata": {
        "colab": {
          "base_uri": "https://localhost:8080/"
        },
        "id": "YTxoH6oYz92J",
        "outputId": "4ba4d9cc-d93e-4360-a063-42430d8d2adc"
      },
      "outputs": [
        {
          "output_type": "stream",
          "name": "stdout",
          "text": [
            "Escribe un nùmero2\n",
            "nùmero positivo\n"
          ]
        }
      ],
      "source": [
        "# 5 practica operadores relacionales\n",
        "# programa_imprima_si_el_numero_es_positivo_o_negativo\n",
        "num1=int(input(\"Escribe un nùmero\"))\n",
        "if  num1>=0:\n",
        "  print(\"nùmero positivo\")\n",
        "else:\n",
        "  print(\"Nùmero negativo\")\n",
        "\n",
        "\n",
        "\n",
        "\n"
      ]
    }
  ]
}