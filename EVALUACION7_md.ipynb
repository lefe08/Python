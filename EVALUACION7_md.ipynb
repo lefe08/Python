{
  "nbformat": 4,
  "nbformat_minor": 0,
  "metadata": {
    "colab": {
      "name": "EVALUACION7.md.ipynb",
      "provenance": [],
      "collapsed_sections": [],
      "authorship_tag": "ABX9TyOzDRGIMhobfQQyLH13qZlt",
      "include_colab_link": true
    },
    "kernelspec": {
      "name": "python3",
      "display_name": "Python 3"
    },
    "language_info": {
      "name": "python"
    }
  },
  "cells": [
    {
      "cell_type": "markdown",
      "metadata": {
        "id": "view-in-github",
        "colab_type": "text"
      },
      "source": [
        "<a href=\"https://colab.research.google.com/github/lefe08/Python/blob/main/EVALUACION7_md.ipynb\" target=\"_parent\"><img src=\"https://colab.research.google.com/assets/colab-badge.svg\" alt=\"Open In Colab\"/></a>"
      ]
    },
    {
      "cell_type": "markdown",
      "source": [
        "# practica programacion orientada a objetos\n",
        "\n",
        "# Ejercicio 1\n",
        "# vamos a crear una clase llamada persona \n",
        "# sus atributos son: nombre_edad_DNI\n",
        "# construye los siguientes métodos para la clase\n",
        "#°un constructor donde los dtos pueden estar vacios\n",
        "#°los setter y getter para cada uno de los atributos \n",
        "#°hay que validar las entradas de datos \n",
        "#°mostrar (): muestra los datos de la persona\n",
        "#°es mayordeEdad (): Devuelve un valor lógico indicando si es mayor de Edad\n"
      ],
      "metadata": {
        "id": "x7sXFHx04Yy2"
      }
    },
    {
      "cell_type": "code",
      "execution_count": null,
      "metadata": {
        "id": "0h_oRYb_xe4G",
        "colab": {
          "base_uri": "https://localhost:8080/"
        },
        "outputId": "ae72dbeb-ec12-4f41-8643-5a57c6c38577"
      },
      "outputs": [
        {
          "output_type": "execute_result",
          "data": {
            "text/plain": [
              "<bound method Persona.mostrar of <__main__.Persona object at 0x7f4de6a335d0>>"
            ]
          },
          "metadata": {},
          "execution_count": 30
        }
      ],
      "source": [
        "# practica programacion orientada a objetos\n",
        "# Ejercicio 1\n",
        "# vamos a crear una clase llamada persona \n",
        "# sus atributos son: nombre_edad_DNI\n",
        "# construye los siguientes  métodos para la clase\n",
        "#°un constructor donde los dtos pueden estar vacios\n",
        "#°los setter y getter para cada uno de los atributos \n",
        "#°hay que validar las entradas de datos \n",
        "#°mostrar (): muestra los datos de la persona\n",
        "#°es mayordeEdad (): Devuelve un valor lógico indicando si es mayor de Edad\n",
        "\n",
        "#Creamos la clase persona con sus atributos \n",
        "class Persona():\n",
        "#constructor vacio \n",
        "  def __init__(self,nombre=\" \",edad=0,dni=\" \"):\n",
        "      self.nombre=nombre\n",
        "      self.edad=edad\n",
        "      self.dni=dni\n",
        "\n",
        "  def mostrar(self):\n",
        "      print(f'Nombre: {self.nombre},Edad:{self.edad},DNI {self.dni}')\n",
        "  def esMayorDeEdad(self):\n",
        "      if  self.edad >21:\n",
        "          print('Es mayor de edad')\n",
        "      else: ('Es menor de edad')\n",
        "\n",
        "#con decorador @property creamos los getter para obtener información\n",
        "@property\n",
        "def nombre(self):\n",
        "    return self.__nombre\n",
        "@property\n",
        "def edad(self):\n",
        "    return self.__edad\n",
        "@property\n",
        "def dni(self):\n",
        "    return self.__dni\n",
        "\n",
        "#creamos los setter para cambiar información \n",
        "@nombre.setter\n",
        "def nombre(self,nombre):\n",
        "    self.__nombre=nombre\n",
        "\n",
        "#para validar dni\n",
        "def validar_dni(self):\n",
        "    letras= \"ABCDFGHIJKLNOPQRSTUVWXYZ\"\n",
        "    if  len(self.__dni)!=9:\n",
        "        print(\"DNI incorrecto\")\n",
        "        self.__dni = \"\"\n",
        "    else:\n",
        "        letra=self.__dni[8]\n",
        "        num = int(self.__dni[:8])\n",
        "        if  letra.upper() !=letras [num % 23]:\n",
        "             self.__dni=\"\"\n",
        "#creamos el setter dni\n",
        "@dni.setter\n",
        "def dni(self,dni):\n",
        "    self.__dni=dni\n",
        "    self.validar__dni()\n",
        "\n",
        "#creamos edad setter, si el 0 imprimir es incorrecto\n",
        "@edad.setter\n",
        "def edad(self,edad):\n",
        "   if edad <=0:\n",
        "    print(\"Edad incorrecta\")\n",
        "    self.__edad=0\n",
        "   else:\n",
        "    self.edad=edad\n",
        "\n",
        "\n",
        "\n",
        "Persona=Persona() \n",
        "Persona.mostrar\n",
        "   \n",
        "#def mostrar (self)\n",
        " #return\"Nombre:\" + self.nombre +\", Edad:\"+ str(self.edad)+\", DNI:\"+self.dni\n",
        "\n",
        "#def esMayorDeEdad(self):\n",
        " #return self.edad>=18\n",
        "#persona1=persona('mateo', 18,12345)\n",
        "#print(persona1.nombre,persona1.edad,persona1.dni)\n",
        "\n",
        "#print(persona1.nombre)\n",
        "#persona1.nombre='dorcas'\n",
        "#print (persona1.nombre)\n",
        "\n",
        "#print(persona1.edad)\n",
        "#persona1.edad=25\n",
        "#print(persona1.edad)\n",
        "\n",
        "#print(personal1.dni)\n",
        "#persona1.dni = 98765\n",
        "#print(persona1.dni)\n",
        "\n",
        "#print(persona1.dni,persona1.edad,persona1.nombre)        "
      ]
    }
  ]
}