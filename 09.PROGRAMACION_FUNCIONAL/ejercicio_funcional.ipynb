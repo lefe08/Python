{
  "nbformat": 4,
  "nbformat_minor": 0,
  "metadata": {
    "colab": {
      "name": "ejercicio_funcional.ipynb",
      "provenance": [],
      "include_colab_link": true
    },
    "kernelspec": {
      "name": "python3",
      "display_name": "Python 3"
    },
    "language_info": {
      "name": "python"
    }
  },
  "cells": [
    {
      "cell_type": "markdown",
      "metadata": {
        "id": "view-in-github",
        "colab_type": "text"
      },
      "source": [
        "<a href=\"https://colab.research.google.com/github/lefe08/Python/blob/main/09.PROGRAMACION_FUNCIONAL/ejercicio_funcional.ipynb\" target=\"_parent\"><img src=\"https://colab.research.google.com/assets/colab-badge.svg\" alt=\"Open In Colab\"/></a>"
      ]
    },
    {
      "cell_type": "markdown",
      "source": [
        "1 - Realiza un programa que solicite dos números y una operación (suma, resta, división y multiplicación) e imprima el resultado.\n",
        "\n",
        "Además deberá mostrar un menú con las siguientes opciones:\n",
        "\n",
        "Mostrar números\n",
        "\n",
        "Sumar\n",
        "\n",
        "Restar\n",
        "\n",
        "Dividir (considerar la división entre 0)\n",
        "\n",
        "multipicar\n",
        "\n",
        "cerrar calculadora"
      ],
      "metadata": {
        "id": "BAs9dwQpa1pU"
      }
    },
    {
      "cell_type": "code",
      "execution_count": null,
      "metadata": {
        "id": "2FvjGz3EagUQ"
      },
      "outputs": [],
      "source": [
        "#tu codigo aqui\n",
        "def menu():\n",
        "  print('Bienvenido a la calculadora')\n",
        "  print('''opciónes.\n",
        "  1. sumar\n",
        "  2. restar \n",
        "  3. Dividir\n",
        "  4. Multiplicar\n",
        "  5. salir\n",
        "  ''')\n",
        "\n",
        "  opción= int(input('Escoger opción '))\n",
        "  if opción==1:\n",
        "    suma()\n",
        "  elif opción==2:\n",
        "    resta()\n",
        "  elif opción==3:\n",
        "    Dividir()\n",
        "  elif opción==4:\n",
        "    Multiplicar()\n",
        "  elif opción== 5:\n",
        "    exit()\n",
        "  else:\n",
        "    print(\"Opción invalida\")\n",
        "\n",
        "def suma():\n",
        "  print(\"suma\")\n",
        "  x = float(input(\"ingresa el primer numero\"))\n",
        "  y = float(input(\"ingresa el segundo numero\"))\n",
        "  print(f'La suma de {x} y de {y} es : {x+y}')\n",
        "  menu() \n",
        "\n",
        "def  resta():\n",
        "  print(\"resta\")\n",
        "  x = float(input(\"ingresa el primer numero\"))\n",
        "  y = float(input(\"ingresa el segundo numero\"))\n",
        "  print(f'La resta de {x} y de {y} es : {x-y}')\n",
        "  menu()\n",
        "\n",
        "\n",
        "\n",
        "def  Divición():\n",
        "  print(\"Divición\")\n",
        "  x = float(input(\"ingresa el primer numero\"))\n",
        "  y = float(input(\"ingresa el segundo numero\"))\n",
        "  print(f'La Divición de {x} y de {y} es : {x/y}')\n",
        "  menu()\n",
        "\n",
        "\n",
        "def  Multiplicar():\n",
        "  print(\"Multiplicación \")\n",
        "  x = float(input(\"ingresa el primer numero\"))\n",
        "  y = float(input(\"ingresa el segundo numero\"))\n",
        "  print(f'La multiplicación  de {x} y de {y} es : {x*y}')\n",
        "  menu()\n",
        "\n",
        "menu()\n"
      ]
    }
  ]
}