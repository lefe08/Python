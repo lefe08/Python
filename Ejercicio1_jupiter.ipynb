{
  "nbformat": 4,
  "nbformat_minor": 0,
  "metadata": {
    "colab": {
      "name": "Ejercicio1_jupiter.ipynb",
      "provenance": [],
      "authorship_tag": "ABX9TyMXIFoXqFvuq9yYg+jIA09U",
      "include_colab_link": true
    },
    "kernelspec": {
      "name": "python3",
      "display_name": "Python 3"
    },
    "language_info": {
      "name": "python"
    }
  },
  "cells": [
    {
      "cell_type": "markdown",
      "metadata": {
        "id": "view-in-github",
        "colab_type": "text"
      },
      "source": [
        "<a href=\"https://colab.research.google.com/github/lefe08/Python/blob/main/Ejercicio1_jupiter.ipynb\" target=\"_parent\"><img src=\"https://colab.research.google.com/assets/colab-badge.svg\" alt=\"Open In Colab\"/></a>"
      ]
    },
    {
      "cell_type": "markdown",
      "source": [
        " # python/EJERCICIOS/EJERCICIO1.md\n",
        " # Realiza un cuaderno de Python en Jupiter con el nombre Ejercicio1.ipynb\n",
        "\n",
        " #Dentro vaamos a resolver los siguientes problemas:\n",
        "\n",
        "#Una línea de código que muestre la fecha de hoy.\n",
        "## from datetime import date\n",
        "## date.today()\n",
        "## print(\"La fecha de hoy es \" + \n",
        "## La fecha de hoy es 2022-08-19\n"
      ],
      "metadata": {
        "id": "iJsBDCuA4IQA"
      }
    },
    {
      "cell_type": "code",
      "source": [
        "from  datetime import date\n",
        "date.today()\n",
        "print(\"La fecha de hoy es \" + str(date. today()))\n"
      ],
      "metadata": {
        "colab": {
          "base_uri": "https://localhost:8080/"
        },
        "id": "sT1tvNI05j2U",
        "outputId": "42f0412f-bf69-415e-ca6d-e7653320d68a"
      },
      "execution_count": 4,
      "outputs": [
        {
          "output_type": "stream",
          "name": "stdout",
          "text": [
            "La fecha de hoy es 2022-08-26\n"
          ]
        }
      ]
    },
    {
      "cell_type": "markdown",
      "source": [
        " 2.# Construir un convertidor de unidades de centimetros a metros (el formato del resultado deberá ser: X cm son igual a X metros, según el usuarios ingrese la cantidad a convertir)\n",
        "\n",
        "\n",
        "print(\"Convertidor de centimetros a metros\")\n",
        "\n",
        " cent = input(\"Ingresa la cantidad de centimetros\")\n",
        "\n",
        " met = int(cent) /100\n",
        "\n",
        " print(str(cent) + \" cm, son \" + str(met) + \" m \")\n",
        " \n",
        " Convertidor de centimetros a metros\n",
        " 300 cm, son 3.0 m "
      ],
      "metadata": {
        "id": "CLAWE7ZW7aNd"
      }
    },
    {
      "cell_type": "code",
      "source": [
        "print(\"convertidor de centimetros a metros\")\n",
        "cent=input(\"Ingresa la cantidad de centimetros\" )\n",
        "met = int (cent) /100\n",
        "print(str (cent) + \"cm, son \" + str(met) + \"m\")"
      ],
      "metadata": {
        "colab": {
          "base_uri": "https://localhost:8080/"
        },
        "id": "uwAChlRR9PcE",
        "outputId": "3aa475e7-d62a-4134-b709-9a2bf9fcb56f"
      },
      "execution_count": 7,
      "outputs": [
        {
          "output_type": "stream",
          "name": "stdout",
          "text": [
            "convertidor de centimetros a metros\n",
            "Ingresa la cantidad de centimetros300\n",
            "300cm, son 3.0m\n"
          ]
        }
      ]
    },
    {
      "cell_type": "markdown",
      "source": [
        "# Exploremos cómo podemos crear un programa que pueda calcular la distancia entre dos planetas EN KILOMETROS Y EN MILLAS. Comenzaremos usando dos distancias de planetas al sol: Tierra (149.597.870 km) y Júpiter (778.547.200 km). Calcular cuanta distancia hay en kilometos y en millas entre estos dos planetas.\n",
        "Nota: Quita las comas cuando uses los valores.\n",
        "\n",
        "      tierra = 149597870\n",
        "      jupiter = 778547200\n",
        "      distanciakm = jupiter - tierra\n",
        "      distanciamill = distanciakm * 0.6\n",
        "      print(' La distancia entre Jupiter y la tierra es de ' + str(distanciakm) + 'KM, y de ' + str(distanciamill) + ' MILLAS')\n",
        "      La distancia entre Jupiter y la tierra es de 628949330km, y de 377369598.0 millas"
      ],
      "metadata": {
        "id": "V9fg5wIgAWw8"
      }
    },
    {
      "cell_type": "code",
      "source": [
        "tierra = 149597870\n",
        "jupiter = 778577200\n",
        "distanciakm = jupiter - tierra\n",
        "distanciamill = distanciakm * 0.6\n",
        "\n",
        "print(' L adistancia entre jupiter y la tierra es de ' + str(distanciakm) + 'km, y de '+ str(distanciamill) + 'millas')\n"
      ],
      "metadata": {
        "colab": {
          "base_uri": "https://localhost:8080/"
        },
        "id": "sT3pvLUVAjmi",
        "outputId": "e392d87b-44be-4922-9423-247bb96ed54f"
      },
      "execution_count": 8,
      "outputs": [
        {
          "output_type": "stream",
          "name": "stdout",
          "text": [
            " L adistancia entre jupiter y la tierra es de 628979330km, y de 377387598.0millas\n"
          ]
        }
      ]
    },
    {
      "cell_type": "markdown",
      "source": [],
      "metadata": {
        "id": "AiPR74WECcJM"
      }
    },
    {
      "cell_type": "markdown",
      "source": [
        "Crear una aplicación para trabajar con números y entrada de usuario\n",
        "\n",
        "Para crear nuestra aplicación, queremos leer la distancia del sol para dos planetas, y luego mostrar la distancia entre los planetas. Haremos esto usando input para leer los valores, int para convertir a entero y luego abs para convertir el resultado en su valor absoluto.\n",
        "\n",
        "PASOS:\n",
        "\n",
        "a) Lee los valores\n",
        "\n",
        "Usando input, agrega el código para leer la distancia del sol para cada planeta, considerando 2 planetas.\n",
        "\n",
        "b)Convertir a número\n",
        "\n",
        "Debido a que input devuelve valores de cadena, necesitamos convertirlos en números. Para nuestro ejemplo, usaremos int\n",
        "\n",
        "c)Realizar el cálculo y convertir a valor absoluto\n",
        "\n",
        "Con los valores almacenados como números, ahora puedes agregar el código para realizar el cálculo, restando el primer planeta del segundo. Debido a que el segundo planeta podría ser un número mayor, usarás abs para convertirlo a un valor absoluto\n",
        "\n",
        "d)Prueba tu aplicación\n",
        "\n",
        "Para probar el proyecto, ejecuta tu notebook. En la parte superior de vscode surgirá un cuadro de diálogo para que proporciones las distancias. Puede utilizar los datos de la tabla siguiente:\n",
        "\n",
        "Planeta Y Distancia al sol\n",
        "\n",
        "Mercurio 57900000\n",
        "\n",
        "Venus 108200000\n",
        "\n",
        "Tierra 149600000\n",
        "\n",
        "Marte 227900000\n",
        "\n",
        "Júpiter 778600000\n",
        "\n",
        "Saturno 1433500000\n",
        "\n",
        "Urano 2872500000\n",
        "\n",
        "Neptuno 4495100000\n",
        "\n",
        "      planeta1 = int(input ('Ingresa la distancia del primer planeta'))\n",
        "      planeta2 = int(input ('Ingresa la distancia del planeta 2'))\n",
        "      distancia = planeta1 - planeta2\n",
        "      print('LA DISTANCIA ES DE ', distancia)\n",
        "      LA DISTANCIA ES DE  42078500002"
      ],
      "metadata": {
        "id": "thz_CpuwDFSI"
      }
    },
    {
      "cell_type": "code",
      "source": [
        "planeta1 = int(input ('Ingresa la distancia del primer planeta'))\n",
        "planeta2 = int(input ('Ingresa la distancia del planeta 2'))\n",
        "distancia = planeta1 - planeta2\n",
        "print('LA DISTANCIA ES DE ', distancia)"
      ],
      "metadata": {
        "colab": {
          "base_uri": "https://localhost:8080/"
        },
        "id": "7WPL3ZUvDwzT",
        "outputId": "9ee8f15b-0427-4982-dea6-80f3323ef88d"
      },
      "execution_count": 28,
      "outputs": [
        {
          "output_type": "stream",
          "name": "stdout",
          "text": [
            "Ingresa la distancia del primer planeta57900000\n",
            "Ingresa la distancia del planeta 2108200000\n",
            "LA DISTANCIA ES DE  -50300000\n"
          ]
        }
      ]
    }
  ]
}