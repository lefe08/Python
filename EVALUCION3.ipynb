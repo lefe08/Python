{
  "nbformat": 4,
  "nbformat_minor": 0,
  "metadata": {
    "colab": {
      "name": " EVALUCION3.ipynb",
      "provenance": [],
      "collapsed_sections": [],
      "authorship_tag": "ABX9TyM3pxXaKfNEkxVNCJcHHabB",
      "include_colab_link": true
    },
    "kernelspec": {
      "name": "python3",
      "display_name": "Python 3"
    },
    "language_info": {
      "name": "python"
    }
  },
  "cells": [
    {
      "cell_type": "markdown",
      "metadata": {
        "id": "view-in-github",
        "colab_type": "text"
      },
      "source": [
        "<a href=\"https://colab.research.google.com/github/lefe08/Python/blob/main/EVALUCION3.ipynb\" target=\"_parent\"><img src=\"https://colab.research.google.com/assets/colab-badge.svg\" alt=\"Open In Colab\"/></a>"
      ]
    },
    {
      "cell_type": "markdown",
      "source": [
        " # Práctica Operadores aritméticos\n",
        "Las siguientes simplificaciones realizalas considerando la gerarquía de los operadores.\n",
        "\n",
        "3.1 Ejercicio 1(2 puntos)\n",
        "\n",
        "Simplifica la expresión 5+{{(3+1)}^2}."
      ],
      "metadata": {
        "id": "xqCd0tyALt4X"
      }
    },
    {
      "cell_type": "code",
      "source": [
        " =5+{{(4)}^2}\n",
        "\n",
        " =5+{16}\n",
        "\n",
        " =21"
      ],
      "metadata": {
        "id": "1HyP3qEQOWjr"
      },
      "execution_count": null,
      "outputs": []
    },
    {
      "cell_type": "markdown",
      "source": [
        "3.2 Ejercicio2\n",
        "simplifica la expresiòn 12-2{{(6-3)}^2}\\div3."
      ],
      "metadata": {
        "id": "8mvd6IW6O7qE"
      }
    },
    {
      "cell_type": "code",
      "source": [
        "=12-2{{(3)}^2}\\3\n",
        "      \n",
        "=12-2{9}\\3\n",
        "\n",
        "=12-2{3}\n",
        "\n",
        "=12-2{3}\n",
        "\n",
        "=12-6\n",
        "\n",
        "=6"
      ],
      "metadata": {
        "id": "NaS6vjKpP8AV"
      },
      "execution_count": null,
      "outputs": []
    },
    {
      "cell_type": "markdown",
      "source": [
        "3.3 Eejercicio3\n",
        "Simplifica la expresiòn 12x+4[6-(3x+2)]."
      ],
      "metadata": {
        "id": "WoAFmbWfSXpR"
      }
    },
    {
      "cell_type": "code",
      "source": [
        "=12x+4(6-3x+2)\n",
        "\n",
        "=12x+4(3x+4)\n",
        "\n",
        "=15x+8"
      ],
      "metadata": {
        "id": "RNY2GJvkTE0b"
      },
      "execution_count": null,
      "outputs": []
    }
  ]
}